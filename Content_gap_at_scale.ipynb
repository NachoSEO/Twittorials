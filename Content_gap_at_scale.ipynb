{
  "nbformat": 4,
  "nbformat_minor": 0,
  "metadata": {
    "colab": {
      "name": "RST",
      "provenance": []
    },
    "kernelspec": {
      "name": "python3",
      "display_name": "Python 3"
    }
  },
  "cells": [
    {
      "cell_type": "markdown",
      "metadata": {
        "id": "qfLMLC2jAFFE"
      },
      "source": [
        "**Scenario**: we are working for Atrapalo in Mexico and we want to have a close look at what Skyscanner is doing. One of the hypothesis we want to test is that they are ranking and performing well on some queries where we don't even have a page created. Let's have a look at that! \n",
        "\n",
        "**Limitations**: our analysis is 100% based on what is included in sitemap data. We may have situations where data included in our or our competitors' data is not exhaustive. We will ignore this limitations during this tutorial. "
      ]
    },
    {
      "cell_type": "markdown",
      "metadata": {
        "id": "cgryQ1qxUvsQ"
      },
      "source": [
        "## Setup"
      ]
    },
    {
      "cell_type": "code",
      "metadata": {
        "id": "PMDsNIV30ltS"
      },
      "source": [
        "#Import pandas(https://pandas.pydata.org/)\n",
        "import pandas as pd \n",
        "#Import numpy (https://numpy.org/)\n",
        "import numpy as np \n",
        "#Import advertools (https://pypi.org/project/advertools/)\n",
        "try: \n",
        "  import advertools as adv\n",
        "except:\n",
        "  !pip install advertools\n",
        "  import advertools as adv "
      ],
      "execution_count": null,
      "outputs": []
    },
    {
      "cell_type": "markdown",
      "metadata": {
        "id": "XSGB7czrUymV"
      },
      "source": [
        "## Download sitemaps"
      ]
    },
    {
      "cell_type": "code",
      "metadata": {
        "id": "VScduwhF1IC3",
        "colab": {
          "base_uri": "https://localhost:8080/"
        },
        "outputId": "67fc19cd-369d-497e-eb4e-c4ddd6acf45e"
      },
      "source": [
        "#Load sitemaps\n",
        "atrapalo = adv.sitemap_to_df('https://www.atrapalo.com.mx/sitemaps/sitemap.xml.gz')\n",
        "skyscanner = adv.sitemap_to_df('https://www.skyscanner.com.mx/sitemap.xml')"
      ],
      "execution_count": null,
      "outputs": [
        {
          "output_type": "stream",
          "text": [
            "2020-11-19 08:21:51,654 | INFO | sitemaps.py:361 | sitemap_to_df | Getting https://www.atrapalo.com.mx/sitemaps/vue_destinations.xml.gz\n",
            "2020-11-19 08:21:51,668 | INFO | sitemaps.py:361 | sitemap_to_df | Getting https://www.atrapalo.com.mx/sitemaps/via_categories.xml.gz\n",
            "2020-11-19 08:21:51,727 | INFO | sitemaps.py:361 | sitemap_to_df | Getting https://www.atrapalo.com.mx/sitemaps/vmh_locations.xml.gz\n",
            "2020-11-19 08:21:51,800 | WARNING | sitemaps.py:355 | sitemap_to_df | HTTP Error 404: Not Found https://www.atrapalo.com.mx/sitemaps/via_trips.xml.gz\n",
            "2020-11-19 08:21:52,385 | INFO | sitemaps.py:361 | sitemap_to_df | Getting https://www.atrapalo.com.mx/sitemaps/vue_routes.xml.gz\n",
            "2020-11-19 08:21:54,231 | INFO | sitemaps.py:361 | sitemap_to_df | Getting https://www.atrapalo.com.mx/sitemaps/hot_hotels_4.xml.gz\n",
            "2020-11-19 08:21:54,366 | INFO | sitemaps.py:361 | sitemap_to_df | Getting https://www.atrapalo.com.mx/sitemaps/via_locations.xml.gz\n",
            "2020-11-19 08:21:55,085 | INFO | sitemaps.py:361 | sitemap_to_df | Getting https://www.atrapalo.com.mx/sitemaps/hot_hotels.xml.gz\n",
            "2020-11-19 08:21:55,177 | INFO | sitemaps.py:361 | sitemap_to_df | Getting https://www.atrapalo.com.mx/sitemaps/hot_hotels_2.xml.gz\n",
            "2020-11-19 08:21:55,632 | INFO | sitemaps.py:361 | sitemap_to_df | Getting https://www.atrapalo.com.mx/sitemaps/hot_locations.xml.gz\n",
            "2020-11-19 08:21:55,679 | INFO | sitemaps.py:361 | sitemap_to_df | Getting https://www.atrapalo.com.mx/sitemaps/hot_locations_2.xml.gz\n",
            "2020-11-19 08:21:55,761 | INFO | sitemaps.py:361 | sitemap_to_df | Getting https://www.atrapalo.com.mx/sitemaps/hot_hotels_3.xml.gz\n",
            "2020-11-19 08:21:58,784 | INFO | sitemaps.py:361 | sitemap_to_df | Getting https://www.atrapalo.com.mx/sitemaps/hot_metadestinations.xml.gz\n",
            "2020-11-19 08:21:59,135 | INFO | sitemaps.py:361 | sitemap_to_df | Getting https://www.atrapalo.com.mx/sitemaps/vue_countries.xml.gz\n",
            "2020-11-19 08:21:59,201 | INFO | sitemaps.py:361 | sitemap_to_df | Getting https://www.atrapalo.com.mx/sitemaps/vue_origin.xml.gz\n",
            "2020-11-19 08:21:59,230 | INFO | sitemaps.py:361 | sitemap_to_df | Getting https://www.atrapalo.com.mx/sitemaps/hot_locations_3.xml.gz\n",
            "2020-11-19 08:21:59,282 | INFO | sitemaps.py:361 | sitemap_to_df | Getting https://www.atrapalo.com.mx/sitemaps/com_homes.xml.gz\n",
            "2020-11-19 08:21:59,953 | INFO | sitemaps.py:361 | sitemap_to_df | Getting https://www.atrapalo.com.mx/sitemaps/hot_locations_6.xml.gz\n",
            "2020-11-19 08:22:00,024 | INFO | sitemaps.py:361 | sitemap_to_df | Getting https://www.atrapalo.com.mx/sitemaps/coc_car_destination_landings.xml.gz\n",
            "2020-11-19 08:22:01,282 | INFO | sitemaps.py:361 | sitemap_to_df | Getting https://www.atrapalo.com.mx/sitemaps/hot_locations_4.xml.gz\n",
            "2020-11-19 08:22:01,416 | INFO | sitemaps.py:361 | sitemap_to_df | Getting https://www.atrapalo.com.mx/sitemaps/hot_locations_5.xml.gz\n",
            "2020-11-19 08:22:03,651 | INFO | sitemaps.py:361 | sitemap_to_df | Getting https://www.skyscanner.com.mx/es_mx_who-flies-c_sitemap.xml\n",
            "2020-11-19 08:22:03,667 | INFO | sitemaps.py:361 | sitemap_to_df | Getting https://www.skyscanner.com.mx/es_mx_who-flies-r_sitemap.xml\n",
            "2020-11-19 08:22:03,724 | INFO | sitemaps.py:361 | sitemap_to_df | Getting https://www.skyscanner.com.mx/es_mx_airline_sitemap.xml\n",
            "2020-11-19 08:22:03,736 | INFO | sitemaps.py:361 | sitemap_to_df | Getting https://www.skyscanner.com.mx/es_mx_flights-ct-to_sitemap.xml\n",
            "2020-11-19 08:22:03,788 | INFO | sitemaps.py:361 | sitemap_to_df | Getting https://www.skyscanner.com.mx/es_mx_who-flies-cy_sitemap.xml\n",
            "2020-11-19 08:22:03,807 | INFO | sitemaps.py:361 | sitemap_to_df | Getting https://www.skyscanner.com.mx/es_mx_cat-pages_sitemap.xml\n",
            "2020-11-19 08:22:03,849 | INFO | sitemaps.py:361 | sitemap_to_df | Getting https://www.skyscanner.com.mx/es_mx_who-flies-a_sitemap.xml\n",
            "2020-11-19 08:22:03,989 | INFO | sitemaps.py:361 | sitemap_to_df | Getting https://www.skyscanner.com.mx/es_mx_who-flies-ct_sitemap.xml\n",
            "2020-11-19 08:22:04,059 | INFO | sitemaps.py:361 | sitemap_to_df | Getting https://www.skyscanner.com.mx/es_mx_flights-cy-to_sitemap.xml\n",
            "2020-11-19 08:22:04,082 | INFO | sitemaps.py:361 | sitemap_to_df | Getting https://www.skyscanner.com.mx/es_mx_flights-r-to_sitemap.xml\n",
            "2020-11-19 08:22:04,110 | INFO | sitemaps.py:361 | sitemap_to_df | Getting https://www.skyscanner.com.mx/es_mx_flights-c-to_sitemap.xml\n",
            "2020-11-19 08:22:04,262 | INFO | sitemaps.py:361 | sitemap_to_df | Getting https://www.skyscanner.com.mx/es_mx_flights-cy-from_sitemap.xml\n",
            "2020-11-19 08:22:04,279 | INFO | sitemaps.py:361 | sitemap_to_df | Getting https://www.skyscanner.com.mx/es_mx_flights-r-from_sitemap.xml\n",
            "2020-11-19 08:22:04,368 | INFO | sitemaps.py:361 | sitemap_to_df | Getting https://www.skyscanner.com.mx/es_mx_flights-a-to_sitemap.xml\n",
            "2020-11-19 08:22:04,453 | INFO | sitemaps.py:361 | sitemap_to_df | Getting https://www.skyscanner.com.mx/es_mx_flights-c-from_sitemap.xml\n",
            "2020-11-19 08:22:04,470 | INFO | sitemaps.py:361 | sitemap_to_df | Getting https://www.skyscanner.com.mx/es_mx_airports-ct_sitemap.xml\n",
            "2020-11-19 08:22:04,499 | INFO | sitemaps.py:361 | sitemap_to_df | Getting https://www.skyscanner.com.mx/es_mx_airports-r_sitemap.xml\n",
            "2020-11-19 08:22:04,516 | INFO | sitemaps.py:361 | sitemap_to_df | Getting https://www.skyscanner.com.mx/es_mx_airports-cy_sitemap.xml\n",
            "2020-11-19 08:22:04,609 | INFO | sitemaps.py:361 | sitemap_to_df | Getting https://www.skyscanner.com.mx/es_mx_airports-c_sitemap.xml\n",
            "2020-11-19 08:22:04,662 | INFO | sitemaps.py:361 | sitemap_to_df | Getting https://www.skyscanner.com.mx/es_mx_flights-a-from_sitemap.xml\n",
            "2020-11-19 08:22:04,918 | INFO | sitemaps.py:361 | sitemap_to_df | Getting https://www.skyscanner.com.mx/es_mx_airports_sitemap.xml\n",
            "2020-11-19 08:22:05,009 | INFO | sitemaps.py:361 | sitemap_to_df | Getting https://www.skyscanner.com.mx/es_mx_routes_a_1_sitemap.xml\n",
            "2020-11-19 08:22:05,254 | INFO | sitemaps.py:361 | sitemap_to_df | Getting https://www.skyscanner.com.mx/es_mx_routes_d_1_sitemap.xml\n",
            "2020-11-19 08:22:05,287 | INFO | sitemaps.py:361 | sitemap_to_df | Getting https://www.skyscanner.com.mx/es_mx_routes_c_1_sitemap.xml\n",
            "2020-11-19 08:22:05,328 | INFO | sitemaps.py:361 | sitemap_to_df | Getting https://www.skyscanner.com.mx/es_mx_routes_e_1_sitemap.xml\n",
            "2020-11-19 08:22:05,419 | INFO | sitemaps.py:361 | sitemap_to_df | Getting https://www.skyscanner.com.mx/es_mx_airports-arrivals-departures_sitemap.xml\n",
            "2020-11-19 08:22:05,442 | INFO | sitemaps.py:361 | sitemap_to_df | Getting https://www.skyscanner.com.mx/es_mx_routes_b_1_sitemap.xml\n",
            "2020-11-19 08:22:05,446 | INFO | sitemaps.py:361 | sitemap_to_df | Getting https://www.skyscanner.com.mx/es_mx_routes_f_1_sitemap.xml\n",
            "2020-11-19 08:22:05,781 | INFO | sitemaps.py:361 | sitemap_to_df | Getting https://www.skyscanner.com.mx/es_mx_routes_h_1_sitemap.xml\n",
            "2020-11-19 08:22:05,784 | INFO | sitemaps.py:361 | sitemap_to_df | Getting https://www.skyscanner.com.mx/es_mx_routes_g_1_sitemap.xml\n",
            "2020-11-19 08:22:05,849 | INFO | sitemaps.py:361 | sitemap_to_df | Getting https://www.skyscanner.com.mx/es_mx_routes_j_1_sitemap.xml\n",
            "2020-11-19 08:22:05,874 | INFO | sitemaps.py:361 | sitemap_to_df | Getting https://www.skyscanner.com.mx/es_mx_routes_i_1_sitemap.xml\n",
            "2020-11-19 08:22:06,011 | INFO | sitemaps.py:361 | sitemap_to_df | Getting https://www.skyscanner.com.mx/es_mx_hotel_sitemap.xml\n",
            "2020-11-19 08:22:06,062 | INFO | sitemaps.py:361 | sitemap_to_df | Getting https://www.skyscanner.com.mx/es_mx_routes_k_1_sitemap.xml\n",
            "2020-11-19 08:22:06,371 | INFO | sitemaps.py:361 | sitemap_to_df | Getting https://www.skyscanner.com.mx/es_mx_routes_q_1_sitemap.xml\n",
            "2020-11-19 08:22:06,436 | INFO | sitemaps.py:361 | sitemap_to_df | Getting https://www.skyscanner.com.mx/es_mx_routes_o_1_sitemap.xml\n",
            "2020-11-19 08:22:06,451 | INFO | sitemaps.py:361 | sitemap_to_df | Getting https://www.skyscanner.com.mx/es_mx_routes_l_1_sitemap.xml\n",
            "2020-11-19 08:22:06,454 | INFO | sitemaps.py:361 | sitemap_to_df | Getting https://www.skyscanner.com.mx/es_mx_routes_n_1_sitemap.xml\n",
            "2020-11-19 08:22:06,470 | INFO | sitemaps.py:361 | sitemap_to_df | Getting https://www.skyscanner.com.mx/es_mx_routes_p_1_sitemap.xml\n",
            "2020-11-19 08:22:06,586 | INFO | sitemaps.py:361 | sitemap_to_df | Getting https://www.skyscanner.com.mx/es_mx_routes_r_1_sitemap.xml\n",
            "2020-11-19 08:22:06,609 | INFO | sitemaps.py:361 | sitemap_to_df | Getting https://www.skyscanner.com.mx/es_mx_routes_m_1_sitemap.xml\n",
            "2020-11-19 08:22:06,842 | INFO | sitemaps.py:361 | sitemap_to_df | Getting https://www.skyscanner.com.mx/es_mx_routes_t_1_sitemap.xml\n",
            "2020-11-19 08:22:06,916 | INFO | sitemaps.py:361 | sitemap_to_df | Getting https://www.skyscanner.com.mx/es_mx_routes_s_1_sitemap.xml\n",
            "2020-11-19 08:22:06,963 | INFO | sitemaps.py:361 | sitemap_to_df | Getting https://www.skyscanner.com.mx/es_mx_routes_u_1_sitemap.xml\n",
            "2020-11-19 08:22:07,002 | INFO | sitemaps.py:361 | sitemap_to_df | Getting https://www.skyscanner.com.mx/es_mx_routes_v_1_sitemap.xml\n",
            "2020-11-19 08:22:07,007 | INFO | sitemaps.py:361 | sitemap_to_df | Getting https://www.skyscanner.com.mx/es_mx_routes_x_1_sitemap.xml\n",
            "2020-11-19 08:22:07,050 | INFO | sitemaps.py:361 | sitemap_to_df | Getting https://www.skyscanner.com.mx/es_mx_routes_z_1_sitemap.xml\n",
            "2020-11-19 08:22:07,068 | INFO | sitemaps.py:361 | sitemap_to_df | Getting https://www.skyscanner.com.mx/es_mx_routes_w_1_sitemap.xml\n",
            "2020-11-19 08:22:07,441 | INFO | sitemaps.py:361 | sitemap_to_df | Getting https://www.skyscanner.com.mx/es_mx_routes-from-country-to-country_sitemap.xml\n",
            "2020-11-19 08:22:07,445 | INFO | sitemaps.py:361 | sitemap_to_df | Getting https://www.skyscanner.com.mx/es_mx_routes-from-countries-to-country_sitemap.xml\n",
            "2020-11-19 08:22:07,447 | INFO | sitemaps.py:361 | sitemap_to_df | Getting https://www.skyscanner.com.mx/es_mx_car-hire-providers_sitemap.xml\n",
            "2020-11-19 08:22:07,478 | INFO | sitemaps.py:361 | sitemap_to_df | Getting https://www.skyscanner.com.mx/es_mx_car-hire-countries_sitemap.xml\n",
            "2020-11-19 08:22:07,504 | INFO | sitemaps.py:361 | sitemap_to_df | Getting https://www.skyscanner.com.mx/es_mx_routes-from-city-airport-to-country_sitemap.xml\n",
            "2020-11-19 08:22:07,569 | INFO | sitemaps.py:361 | sitemap_to_df | Getting https://www.skyscanner.com.mx/es_mx_routes_y_1_sitemap.xml\n",
            "2020-11-19 08:22:07,702 | INFO | sitemaps.py:361 | sitemap_to_df | Getting https://www.skyscanner.com.mx/es_mx_car-hire-cities_sitemap.xml\n",
            "2020-11-19 08:22:07,863 | INFO | sitemaps.py:361 | sitemap_to_df | Getting https://www.skyscanner.com.mx/es_mx_car-hire-airports_sitemap.xml\n",
            "2020-11-19 08:22:10,211 | INFO | sitemaps.py:361 | sitemap_to_df | Getting https://www.skyscanner.com.mx/es_mx_hotel-details_3_sitemap.xml\n",
            "2020-11-19 08:22:11,279 | INFO | sitemaps.py:361 | sitemap_to_df | Getting https://www.skyscanner.com.mx/es_mx_hotel-details_5_sitemap.xml\n",
            "2020-11-19 08:22:11,508 | WARNING | sitemaps.py:355 | sitemap_to_df | IncompleteRead(14691 bytes read) https://www.skyscanner.com.mx/es_mx_hotel-details_0_sitemap.xml\n",
            "2020-11-19 08:22:12,229 | WARNING | sitemaps.py:355 | sitemap_to_df | IncompleteRead(4224 bytes read) https://www.skyscanner.com.mx/es_mx_hotel-details_1_sitemap.xml\n",
            "2020-11-19 08:22:12,329 | INFO | sitemaps.py:361 | sitemap_to_df | Getting https://www.skyscanner.com.mx/es_mx_hotel-details_7_sitemap.xml\n",
            "2020-11-19 08:22:12,776 | INFO | sitemaps.py:361 | sitemap_to_df | Getting https://www.skyscanner.com.mx/es_mx_hotel-details_6_sitemap.xml\n",
            "2020-11-19 08:22:16,153 | INFO | sitemaps.py:361 | sitemap_to_df | Getting https://www.skyscanner.com.mx/es_mx_hotel-details_8_sitemap.xml\n",
            "2020-11-19 08:22:16,243 | INFO | sitemaps.py:361 | sitemap_to_df | Getting https://www.skyscanner.com.mx/es_mx_hotel-details_9_sitemap.xml\n",
            "2020-11-19 08:22:17,530 | INFO | sitemaps.py:361 | sitemap_to_df | Getting https://www.skyscanner.com.mx/es_mx_hotel-details_4_sitemap.xml\n",
            "2020-11-19 08:22:18,313 | INFO | sitemaps.py:361 | sitemap_to_df | Getting https://www.skyscanner.com.mx/es_mx_hotels-in-neighbourhood_0_sitemap.xml\n",
            "2020-11-19 08:22:18,377 | INFO | sitemaps.py:361 | sitemap_to_df | Getting https://www.skyscanner.com.mx/es_mx_hotel-details_2_sitemap.xml\n",
            "2020-11-19 08:22:18,900 | INFO | sitemaps.py:361 | sitemap_to_df | Getting https://www.skyscanner.com.mx/es_mx_holidays-in-airport-city_sitemap.xml\n",
            "2020-11-19 08:22:19,215 | INFO | sitemaps.py:361 | sitemap_to_df | Getting https://www.skyscanner.com.mx/es_mx_black-friday_sitemap.xml\n",
            "2020-11-19 08:22:19,327 | INFO | sitemaps.py:361 | sitemap_to_df | Getting https://www.skyscanner.com.mx/es_mx_flights-last-minute-deals_sitemap.xml\n",
            "2020-11-19 08:22:20,708 | INFO | sitemaps.py:361 | sitemap_to_df | Getting https://www.skyscanner.com.mx/es_mx_hotel-places_3_sitemap.xml\n",
            "2020-11-19 08:22:20,752 | INFO | sitemaps.py:361 | sitemap_to_df | Getting https://www.skyscanner.com.mx/es_mx_hotel-places_0_sitemap.xml\n",
            "2020-11-19 08:22:21,512 | INFO | sitemaps.py:361 | sitemap_to_df | Getting https://www.skyscanner.com.mx/es_mx_hotel-places_1_sitemap.xml\n",
            "2020-11-19 08:22:24,641 | INFO | sitemaps.py:361 | sitemap_to_df | Getting https://www.skyscanner.com.mx/es_mx_hotel-places_2_sitemap.xml\n"
          ],
          "name": "stderr"
        }
      ]
    },
    {
      "cell_type": "code",
      "metadata": {
        "id": "PcPVH5iW3J9u",
        "colab": {
          "base_uri": "https://localhost:8080/"
        },
        "outputId": "bb2218fd-e0a8-4674-aa4c-81caac174e72"
      },
      "source": [
        "#Quickly check the number of rows & columns returned for both sitemaps \n",
        "print('Atrapalo: ',atrapalo.shape)\n",
        "print('Skyscanner: ',skyscanner.shape)"
      ],
      "execution_count": null,
      "outputs": [
        {
          "output_type": "stream",
          "text": [
            "Atrapalo:  (416097, 7)\n",
            "Skyscanner:  (578187, 6)\n"
          ],
          "name": "stdout"
        }
      ]
    },
    {
      "cell_type": "markdown",
      "metadata": {
        "id": "8AUms3XQU2ix"
      },
      "source": [
        "## Filter data"
      ]
    },
    {
      "cell_type": "code",
      "metadata": {
        "id": "5tWDDPQi3wdB",
        "colab": {
          "base_uri": "https://localhost:8080/"
        },
        "outputId": "c951518e-5d72-4a6e-c9c2-fbe382ab1311"
      },
      "source": [
        "#In this analysis, we will only analyze the Flight Routes, so let's remove useless rows from our 2 DFs\n",
        "atrapalo_flight = atrapalo[(atrapalo['sitemap'].str.contains('route'))]\n",
        "skyscanner_flight = skyscanner[skyscanner['sitemap'].str.contains('route')]\n",
        "\n",
        "print('Atrapalo: ',atrapalo_flight.shape)\n",
        "print('Skyscanner: ',skyscanner_flight.shape)"
      ],
      "execution_count": null,
      "outputs": [
        {
          "output_type": "stream",
          "text": [
            "Atrapalo:  (9280, 7)\n",
            "Skyscanner:  (29168, 6)\n"
          ],
          "name": "stdout"
        }
      ]
    },
    {
      "cell_type": "markdown",
      "metadata": {
        "id": "4dCEZhNNU6up"
      },
      "source": [
        "## Extract airport codes"
      ]
    },
    {
      "cell_type": "code",
      "metadata": {
        "id": "yJzw2KlB66in",
        "colab": {
          "base_uri": "https://localhost:8080/",
          "height": 762
        },
        "outputId": "96729ede-996c-477d-c716-7abe9b12bf4f"
      },
      "source": [
        "#Let's extract, in both datasets, the city for the origin & the destination\n",
        "\n",
        "#Atrapalo\n",
        "atrapalo_flight['From'] = atrapalo_flight['loc'].str.extract('/vuelos/.*_(.*)-.*\\.html$')\n",
        "atrapalo_flight['To'] = atrapalo_flight['loc'].str.extract('/vuelos/.*_.*-(.*)\\.html$')\n",
        "\n",
        "#Skyscanner\n",
        "skyscanner_flight['From'] = skyscanner_flight['loc'].str.extract('/rutas/(.*)/.*/.*$')\n",
        "skyscanner_flight['To'] = skyscanner_flight['loc'].str.extract('/rutas/.*/(.*)/.*$')\n",
        "\n",
        "#Have a preview or what the extracted content look like\n",
        "skyscanner_flight.head()"
      ],
      "execution_count": null,
      "outputs": [
        {
          "output_type": "stream",
          "text": [
            "/usr/local/lib/python3.6/dist-packages/ipykernel_launcher.py:4: SettingWithCopyWarning: \n",
            "A value is trying to be set on a copy of a slice from a DataFrame.\n",
            "Try using .loc[row_indexer,col_indexer] = value instead\n",
            "\n",
            "See the caveats in the documentation: https://pandas.pydata.org/pandas-docs/stable/user_guide/indexing.html#returning-a-view-versus-a-copy\n",
            "  after removing the cwd from sys.path.\n",
            "/usr/local/lib/python3.6/dist-packages/ipykernel_launcher.py:5: SettingWithCopyWarning: \n",
            "A value is trying to be set on a copy of a slice from a DataFrame.\n",
            "Try using .loc[row_indexer,col_indexer] = value instead\n",
            "\n",
            "See the caveats in the documentation: https://pandas.pydata.org/pandas-docs/stable/user_guide/indexing.html#returning-a-view-versus-a-copy\n",
            "  \"\"\"\n",
            "/usr/local/lib/python3.6/dist-packages/ipykernel_launcher.py:8: SettingWithCopyWarning: \n",
            "A value is trying to be set on a copy of a slice from a DataFrame.\n",
            "Try using .loc[row_indexer,col_indexer] = value instead\n",
            "\n",
            "See the caveats in the documentation: https://pandas.pydata.org/pandas-docs/stable/user_guide/indexing.html#returning-a-view-versus-a-copy\n",
            "  \n",
            "/usr/local/lib/python3.6/dist-packages/ipykernel_launcher.py:9: SettingWithCopyWarning: \n",
            "A value is trying to be set on a copy of a slice from a DataFrame.\n",
            "Try using .loc[row_indexer,col_indexer] = value instead\n",
            "\n",
            "See the caveats in the documentation: https://pandas.pydata.org/pandas-docs/stable/user_guide/indexing.html#returning-a-view-versus-a-copy\n",
            "  if __name__ == '__main__':\n"
          ],
          "name": "stderr"
        },
        {
          "output_type": "execute_result",
          "data": {
            "text/html": [
              "<div>\n",
              "<style scoped>\n",
              "    .dataframe tbody tr th:only-of-type {\n",
              "        vertical-align: middle;\n",
              "    }\n",
              "\n",
              "    .dataframe tbody tr th {\n",
              "        vertical-align: top;\n",
              "    }\n",
              "\n",
              "    .dataframe thead th {\n",
              "        text-align: right;\n",
              "    }\n",
              "</style>\n",
              "<table border=\"1\" class=\"dataframe\">\n",
              "  <thead>\n",
              "    <tr style=\"text-align: right;\">\n",
              "      <th></th>\n",
              "      <th>loc</th>\n",
              "      <th>changefreq</th>\n",
              "      <th>priority</th>\n",
              "      <th>sitemap</th>\n",
              "      <th>download_date</th>\n",
              "      <th>errors</th>\n",
              "      <th>From</th>\n",
              "      <th>To</th>\n",
              "    </tr>\n",
              "  </thead>\n",
              "  <tbody>\n",
              "    <tr>\n",
              "      <th>25665</th>\n",
              "      <td>https://www.skyscanner.com.mx/rutas/aae/bva/an...</td>\n",
              "      <td>weekly</td>\n",
              "      <td>0.3</td>\n",
              "      <td>https://www.skyscanner.com.mx/es_mx_routes_a_1...</td>\n",
              "      <td>2020-11-19 08:22:05.042760+00:00</td>\n",
              "      <td>NaN</td>\n",
              "      <td>aae</td>\n",
              "      <td>bva</td>\n",
              "    </tr>\n",
              "    <tr>\n",
              "      <th>25666</th>\n",
              "      <td>https://www.skyscanner.com.mx/rutas/aae/cdg/an...</td>\n",
              "      <td>weekly</td>\n",
              "      <td>0.3</td>\n",
              "      <td>https://www.skyscanner.com.mx/es_mx_routes_a_1...</td>\n",
              "      <td>2020-11-19 08:22:05.042760+00:00</td>\n",
              "      <td>NaN</td>\n",
              "      <td>aae</td>\n",
              "      <td>cdg</td>\n",
              "    </tr>\n",
              "    <tr>\n",
              "      <th>25667</th>\n",
              "      <td>https://www.skyscanner.com.mx/rutas/aae/ist/an...</td>\n",
              "      <td>weekly</td>\n",
              "      <td>0.3</td>\n",
              "      <td>https://www.skyscanner.com.mx/es_mx_routes_a_1...</td>\n",
              "      <td>2020-11-19 08:22:05.042760+00:00</td>\n",
              "      <td>NaN</td>\n",
              "      <td>aae</td>\n",
              "      <td>ist</td>\n",
              "    </tr>\n",
              "    <tr>\n",
              "      <th>25668</th>\n",
              "      <td>https://www.skyscanner.com.mx/rutas/aae/ista/a...</td>\n",
              "      <td>weekly</td>\n",
              "      <td>0.3</td>\n",
              "      <td>https://www.skyscanner.com.mx/es_mx_routes_a_1...</td>\n",
              "      <td>2020-11-19 08:22:05.042760+00:00</td>\n",
              "      <td>NaN</td>\n",
              "      <td>aae</td>\n",
              "      <td>ista</td>\n",
              "    </tr>\n",
              "    <tr>\n",
              "      <th>25669</th>\n",
              "      <td>https://www.skyscanner.com.mx/rutas/aae/mex/an...</td>\n",
              "      <td>weekly</td>\n",
              "      <td>0.3</td>\n",
              "      <td>https://www.skyscanner.com.mx/es_mx_routes_a_1...</td>\n",
              "      <td>2020-11-19 08:22:05.042760+00:00</td>\n",
              "      <td>NaN</td>\n",
              "      <td>aae</td>\n",
              "      <td>mex</td>\n",
              "    </tr>\n",
              "  </tbody>\n",
              "</table>\n",
              "</div>"
            ],
            "text/plain": [
              "                                                     loc changefreq  ...  From    To\n",
              "25665  https://www.skyscanner.com.mx/rutas/aae/bva/an...     weekly  ...   aae   bva\n",
              "25666  https://www.skyscanner.com.mx/rutas/aae/cdg/an...     weekly  ...   aae   cdg\n",
              "25667  https://www.skyscanner.com.mx/rutas/aae/ist/an...     weekly  ...   aae   ist\n",
              "25668  https://www.skyscanner.com.mx/rutas/aae/ista/a...     weekly  ...   aae  ista\n",
              "25669  https://www.skyscanner.com.mx/rutas/aae/mex/an...     weekly  ...   aae   mex\n",
              "\n",
              "[5 rows x 8 columns]"
            ]
          },
          "metadata": {
            "tags": []
          },
          "execution_count": 8
        }
      ]
    },
    {
      "cell_type": "markdown",
      "metadata": {
        "id": "qjSlquldU-7O"
      },
      "source": [
        "## Append both elements to create a matching ID"
      ]
    },
    {
      "cell_type": "code",
      "metadata": {
        "id": "FQrQJtaK97hq",
        "colab": {
          "base_uri": "https://localhost:8080/"
        },
        "outputId": "79e9b8a5-aa85-4e00-95b3-58cb49e4af28"
      },
      "source": [
        "#Let's quickly check that our extraction worked correctly for both websites \n",
        "#Atrapalo\n",
        "print('Atrapalo_from: ',atrapalo_flight['From'].isnull().sum())\n",
        "print('Atrapalo_to: ',atrapalo_flight['To'].isnull().sum())\n",
        "#Skyscanner\n",
        "print('Skyscanner_from: ',skyscanner_flight['From'].isnull().sum())\n",
        "print('Skyscanner_to: ',skyscanner_flight['To'].isnull().sum())\n"
      ],
      "execution_count": null,
      "outputs": [
        {
          "output_type": "stream",
          "text": [
            "Atrapalo_from:  0\n",
            "Atrapalo_to:  0\n",
            "Skyscanner_from:  0\n",
            "Skyscanner_to:  0\n"
          ],
          "name": "stdout"
        }
      ]
    },
    {
      "cell_type": "code",
      "metadata": {
        "id": "hbmAsyjY_omC",
        "colab": {
          "base_uri": "https://localhost:8080/"
        },
        "outputId": "ce6f2c33-7cfe-403d-e8ee-cbe9c2ed14b4"
      },
      "source": [
        "#Let's build the full route by appending the FROM and the TO codes\n",
        "atrapalo_flight['Route'] = atrapalo_flight['From']+'-'+atrapalo_flight['To']\n",
        "skyscanner_flight['Route'] = skyscanner_flight['From']+'-'+skyscanner_flight['To']"
      ],
      "execution_count": null,
      "outputs": [
        {
          "output_type": "stream",
          "text": [
            "2020-11-19 08:22:48,160 | INFO | utils.py:141 | _init_num_threads | NumExpr defaulting to 2 threads.\n",
            "/usr/local/lib/python3.6/dist-packages/ipykernel_launcher.py:2: SettingWithCopyWarning: \n",
            "A value is trying to be set on a copy of a slice from a DataFrame.\n",
            "Try using .loc[row_indexer,col_indexer] = value instead\n",
            "\n",
            "See the caveats in the documentation: https://pandas.pydata.org/pandas-docs/stable/user_guide/indexing.html#returning-a-view-versus-a-copy\n",
            "  \n",
            "/usr/local/lib/python3.6/dist-packages/ipykernel_launcher.py:3: SettingWithCopyWarning: \n",
            "A value is trying to be set on a copy of a slice from a DataFrame.\n",
            "Try using .loc[row_indexer,col_indexer] = value instead\n",
            "\n",
            "See the caveats in the documentation: https://pandas.pydata.org/pandas-docs/stable/user_guide/indexing.html#returning-a-view-versus-a-copy\n",
            "  This is separate from the ipykernel package so we can avoid doing imports until\n"
          ],
          "name": "stderr"
        }
      ]
    },
    {
      "cell_type": "code",
      "metadata": {
        "id": "H4rRqv9LgZVh",
        "colab": {
          "base_uri": "https://localhost:8080/"
        },
        "outputId": "19662714-74ab-431c-9aac-f1715bd929a6"
      },
      "source": [
        "#Let's find the % of routes that Skyscanner has but that Atrapalo doesn't\n",
        "len(skyscanner_flight[skyscanner_flight['Route'].isin(atrapalo_flight['Route'])==False])/len(skyscanner_flight)"
      ],
      "execution_count": null,
      "outputs": [
        {
          "output_type": "execute_result",
          "data": {
            "text/plain": [
              "0.9518307734503566"
            ]
          },
          "metadata": {
            "tags": []
          },
          "execution_count": 11
        }
      ]
    },
    {
      "cell_type": "markdown",
      "metadata": {
        "id": "Twy3SlyIhNJE"
      },
      "source": [
        "## Load SEMRUSH data\n",
        "\n",
        "Around 95% of Skyscanner's flight routes don't exist on Atrapalo. It is quite huge but we know that routes like https://www.skyscanner.com.mx/rutas/dad/hnd/da-nang-a-tokio-haneda.html may not have a huge demand in Mexico. \n",
        "\n",
        "Our goal is therefore to find valuable routes that we must create if we don't have them yet. Let's use SEMRUSH data to do just that. "
      ]
    },
    {
      "cell_type": "code",
      "metadata": {
        "id": "lqmmGIpFhgvf",
        "colab": {
          "base_uri": "https://localhost:8080/",
          "height": 206
        },
        "outputId": "91bb1a8a-7933-4c28-83fd-4b997dec09f9"
      },
      "source": [
        "#Load SEMRUSH data and display the first rows just to be sure that everything went fine \n",
        "semrush_skyscanner = pd.read_csv('/content/drive/My Drive/RWST/files/skyscanner_semrush.csv')\n",
        "#Keep only the columns we need \n",
        "semrush_skyscanner = semrush_skyscanner[['URL','Traffic']]\n",
        "semrush_skyscanner.head()"
      ],
      "execution_count": null,
      "outputs": [
        {
          "output_type": "execute_result",
          "data": {
            "text/html": [
              "<div>\n",
              "<style scoped>\n",
              "    .dataframe tbody tr th:only-of-type {\n",
              "        vertical-align: middle;\n",
              "    }\n",
              "\n",
              "    .dataframe tbody tr th {\n",
              "        vertical-align: top;\n",
              "    }\n",
              "\n",
              "    .dataframe thead th {\n",
              "        text-align: right;\n",
              "    }\n",
              "</style>\n",
              "<table border=\"1\" class=\"dataframe\">\n",
              "  <thead>\n",
              "    <tr style=\"text-align: right;\">\n",
              "      <th></th>\n",
              "      <th>URL</th>\n",
              "      <th>Traffic</th>\n",
              "    </tr>\n",
              "  </thead>\n",
              "  <tbody>\n",
              "    <tr>\n",
              "      <th>0</th>\n",
              "      <td>https://www.skyscanner.com.mx/rutas/mx/cn/mexi...</td>\n",
              "      <td>3977</td>\n",
              "    </tr>\n",
              "    <tr>\n",
              "      <th>1</th>\n",
              "      <td>https://www.skyscanner.com.mx/rutas/mx/co/mexi...</td>\n",
              "      <td>3143</td>\n",
              "    </tr>\n",
              "    <tr>\n",
              "      <th>2</th>\n",
              "      <td>https://www.skyscanner.com.mx/rutas/mx/es/mexi...</td>\n",
              "      <td>3119</td>\n",
              "    </tr>\n",
              "    <tr>\n",
              "      <th>3</th>\n",
              "      <td>https://www.skyscanner.com.mx/rutas/mex/pari/c...</td>\n",
              "      <td>2572</td>\n",
              "    </tr>\n",
              "    <tr>\n",
              "      <th>4</th>\n",
              "      <td>https://www.skyscanner.com.mx/rutas/mx/ar/mexi...</td>\n",
              "      <td>2479</td>\n",
              "    </tr>\n",
              "  </tbody>\n",
              "</table>\n",
              "</div>"
            ],
            "text/plain": [
              "                                                 URL  Traffic\n",
              "0  https://www.skyscanner.com.mx/rutas/mx/cn/mexi...     3977\n",
              "1  https://www.skyscanner.com.mx/rutas/mx/co/mexi...     3143\n",
              "2  https://www.skyscanner.com.mx/rutas/mx/es/mexi...     3119\n",
              "3  https://www.skyscanner.com.mx/rutas/mex/pari/c...     2572\n",
              "4  https://www.skyscanner.com.mx/rutas/mx/ar/mexi...     2479"
            ]
          },
          "metadata": {
            "tags": []
          },
          "execution_count": 12
        }
      ]
    },
    {
      "cell_type": "markdown",
      "metadata": {
        "id": "CL01zHjQP7Fl"
      },
      "source": [
        "## Magical part"
      ]
    },
    {
      "cell_type": "code",
      "metadata": {
        "id": "DRT0ZDBOiTiR",
        "colab": {
          "base_uri": "https://localhost:8080/"
        },
        "outputId": "041f38c1-cf86-4bea-8700-6e33cbe7855f"
      },
      "source": [
        "#Create a new dataframe with only routes from Skyscanner not included in Atrapalo\n",
        "missing = skyscanner_flight[skyscanner_flight['Route'].isin(atrapalo_flight['Route'])==False]\n",
        "#Keep only the information we really need \n",
        "missing = missing[['loc','From','To','Route']]\n",
        "#Change a column name to simplify merge \n",
        "missing = missing.rename(columns={'loc': 'URL'})\n",
        "#Add traffic data \n",
        "missing = missing.merge(semrush_skyscanner,on='URL')\n",
        "\n",
        "missing.shape"
      ],
      "execution_count": null,
      "outputs": [
        {
          "output_type": "execute_result",
          "data": {
            "text/plain": [
              "(743, 5)"
            ]
          },
          "metadata": {
            "tags": []
          },
          "execution_count": 13
        }
      ]
    },
    {
      "cell_type": "markdown",
      "metadata": {
        "id": "XOcGHgTAj88J"
      },
      "source": [
        "We can see that out of the routes we identified as missing on Atrapalo, only 788 seem to be at least be ranking on a keyword (based on SEMRUSH data). Let's have a look at them and maybe clean a little bit more our file. "
      ]
    },
    {
      "cell_type": "markdown",
      "metadata": {
        "id": "hmf8Jm7DVJvI"
      },
      "source": [
        "## Final results"
      ]
    },
    {
      "cell_type": "code",
      "metadata": {
        "id": "l15OqVJ9kLGP",
        "colab": {
          "base_uri": "https://localhost:8080/",
          "height": 423
        },
        "outputId": "592e7ea5-a3b1-47f8-937d-ce45e1be94ba"
      },
      "source": [
        "#Some routes are between Mexico (the country) and another one, like https://www.skyscanner.com.mx/rutas/mx/cn/mexico-a-china.html\n",
        "#These are false positive as Atrapalo is not classifying them as Flight Routes \n",
        "#Let's remove these cases \n",
        "\n",
        "#Remove routes where the origin is a country \n",
        "missing_cleaned = missing.copy()\n",
        "missing_cleaned = missing_cleaned[missing_cleaned['From'].str.len()==3]\n",
        "#Remove routes where the destination is a country \n",
        "missing_cleaned = missing_cleaned[missing_cleaned['To'].str.len()==3]\n",
        "\n",
        "missing_cleaned.sort_values(by='Traffic',ascending=False)"
      ],
      "execution_count": null,
      "outputs": [
        {
          "output_type": "execute_result",
          "data": {
            "text/html": [
              "<div>\n",
              "<style scoped>\n",
              "    .dataframe tbody tr th:only-of-type {\n",
              "        vertical-align: middle;\n",
              "    }\n",
              "\n",
              "    .dataframe tbody tr th {\n",
              "        vertical-align: top;\n",
              "    }\n",
              "\n",
              "    .dataframe thead th {\n",
              "        text-align: right;\n",
              "    }\n",
              "</style>\n",
              "<table border=\"1\" class=\"dataframe\">\n",
              "  <thead>\n",
              "    <tr style=\"text-align: right;\">\n",
              "      <th></th>\n",
              "      <th>URL</th>\n",
              "      <th>From</th>\n",
              "      <th>To</th>\n",
              "      <th>Route</th>\n",
              "      <th>Traffic</th>\n",
              "    </tr>\n",
              "  </thead>\n",
              "  <tbody>\n",
              "    <tr>\n",
              "      <th>184</th>\n",
              "      <td>https://www.skyscanner.com.mx/rutas/pbc/ntr/pu...</td>\n",
              "      <td>pbc</td>\n",
              "      <td>ntr</td>\n",
              "      <td>pbc-ntr</td>\n",
              "      <td>65</td>\n",
              "    </tr>\n",
              "    <tr>\n",
              "      <th>73</th>\n",
              "      <td>https://www.skyscanner.com.mx/rutas/fra/bcn/fr...</td>\n",
              "      <td>fra</td>\n",
              "      <td>bcn</td>\n",
              "      <td>fra-bcn</td>\n",
              "      <td>64</td>\n",
              "    </tr>\n",
              "    <tr>\n",
              "      <th>77</th>\n",
              "      <td>https://www.skyscanner.com.mx/rutas/bcn/ibz/ba...</td>\n",
              "      <td>bcn</td>\n",
              "      <td>ibz</td>\n",
              "      <td>bcn-ibz</td>\n",
              "      <td>52</td>\n",
              "    </tr>\n",
              "    <tr>\n",
              "      <th>740</th>\n",
              "      <td>https://www.skyscanner.com.mx/rutas/yxx/pvr/ab...</td>\n",
              "      <td>yxx</td>\n",
              "      <td>pvr</td>\n",
              "      <td>yxx-pvr</td>\n",
              "      <td>42</td>\n",
              "    </tr>\n",
              "    <tr>\n",
              "      <th>80</th>\n",
              "      <td>https://www.skyscanner.com.mx/rutas/bcn/mah/ba...</td>\n",
              "      <td>bcn</td>\n",
              "      <td>mah</td>\n",
              "      <td>bcn-mah</td>\n",
              "      <td>42</td>\n",
              "    </tr>\n",
              "    <tr>\n",
              "      <th>...</th>\n",
              "      <td>...</td>\n",
              "      <td>...</td>\n",
              "      <td>...</td>\n",
              "      <td>...</td>\n",
              "      <td>...</td>\n",
              "    </tr>\n",
              "    <tr>\n",
              "      <th>119</th>\n",
              "      <td>https://www.skyscanner.com.mx/rutas/gdl/lhr/gu...</td>\n",
              "      <td>gdl</td>\n",
              "      <td>lhr</td>\n",
              "      <td>gdl-lhr</td>\n",
              "      <td>0</td>\n",
              "    </tr>\n",
              "    <tr>\n",
              "      <th>118</th>\n",
              "      <td>https://www.skyscanner.com.mx/rutas/gdl/jfk/gu...</td>\n",
              "      <td>gdl</td>\n",
              "      <td>jfk</td>\n",
              "      <td>gdl-jfk</td>\n",
              "      <td>0</td>\n",
              "    </tr>\n",
              "    <tr>\n",
              "      <th>115</th>\n",
              "      <td>https://www.skyscanner.com.mx/rutas/bwi/sfo/ba...</td>\n",
              "      <td>bwi</td>\n",
              "      <td>sfo</td>\n",
              "      <td>bwi-sfo</td>\n",
              "      <td>0</td>\n",
              "    </tr>\n",
              "    <tr>\n",
              "      <th>101</th>\n",
              "      <td>https://www.skyscanner.com.mx/rutas/bts/waw/br...</td>\n",
              "      <td>bts</td>\n",
              "      <td>waw</td>\n",
              "      <td>bts-waw</td>\n",
              "      <td>0</td>\n",
              "    </tr>\n",
              "    <tr>\n",
              "      <th>742</th>\n",
              "      <td>https://www.skyscanner.com.mx/rutas/yyz/yul/to...</td>\n",
              "      <td>yyz</td>\n",
              "      <td>yul</td>\n",
              "      <td>yyz-yul</td>\n",
              "      <td>0</td>\n",
              "    </tr>\n",
              "  </tbody>\n",
              "</table>\n",
              "<p>157 rows × 5 columns</p>\n",
              "</div>"
            ],
            "text/plain": [
              "                                                   URL From  ...    Route Traffic\n",
              "184  https://www.skyscanner.com.mx/rutas/pbc/ntr/pu...  pbc  ...  pbc-ntr      65\n",
              "73   https://www.skyscanner.com.mx/rutas/fra/bcn/fr...  fra  ...  fra-bcn      64\n",
              "77   https://www.skyscanner.com.mx/rutas/bcn/ibz/ba...  bcn  ...  bcn-ibz      52\n",
              "740  https://www.skyscanner.com.mx/rutas/yxx/pvr/ab...  yxx  ...  yxx-pvr      42\n",
              "80   https://www.skyscanner.com.mx/rutas/bcn/mah/ba...  bcn  ...  bcn-mah      42\n",
              "..                                                 ...  ...  ...      ...     ...\n",
              "119  https://www.skyscanner.com.mx/rutas/gdl/lhr/gu...  gdl  ...  gdl-lhr       0\n",
              "118  https://www.skyscanner.com.mx/rutas/gdl/jfk/gu...  gdl  ...  gdl-jfk       0\n",
              "115  https://www.skyscanner.com.mx/rutas/bwi/sfo/ba...  bwi  ...  bwi-sfo       0\n",
              "101  https://www.skyscanner.com.mx/rutas/bts/waw/br...  bts  ...  bts-waw       0\n",
              "742  https://www.skyscanner.com.mx/rutas/yyz/yul/to...  yyz  ...  yyz-yul       0\n",
              "\n",
              "[157 rows x 5 columns]"
            ]
          },
          "metadata": {
            "tags": []
          },
          "execution_count": 14
        }
      ]
    },
    {
      "cell_type": "markdown",
      "metadata": {
        "id": "BjYzCSGNmkYO"
      },
      "source": [
        "We end up with a set of 166 routes that Atrapalo would need to analyze to define whether it is relevant to include them on their Mexican website. The first route in our DataFrame (BUD-MAD) is between two European cities (Budapest & Madrid) and may not be the most important route to add, **nevertheless maybe some Mexican are buying flights from Mexico when they plan an European trip. We'll have to check search volume to confirm this theory and maybe add these routes anyway.**"
      ]
    },
    {
      "cell_type": "code",
      "metadata": {
        "id": "smnpjHzDmZhi"
      },
      "source": [
        "#save output\n",
        "missing_cleaned.to_csv('output.csv')"
      ],
      "execution_count": null,
      "outputs": []
    }
  ]
}
