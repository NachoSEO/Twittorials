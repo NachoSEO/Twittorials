{
  "nbformat": 4,
  "nbformat_minor": 0,
  "metadata": {
    "colab": {
      "name": "Analyzing GSC Data.ipynb",
      "provenance": [],
      "toc_visible": true,
      "authorship_tag": "ABX9TyPlJrf9Fsv6+4kC+Q6GOMzS",
      "include_colab_link": true
    },
    "kernelspec": {
      "name": "python3",
      "display_name": "Python 3"
    }
  },
  "cells": [
    {
      "cell_type": "markdown",
      "metadata": {
        "id": "view-in-github",
        "colab_type": "text"
      },
      "source": [
        "<a href=\"https://colab.research.google.com/github/saksters/Twittorials/blob/master/Analyzing_GSC_Data.ipynb\" target=\"_parent\"><img src=\"https://colab.research.google.com/assets/colab-badge.svg\" alt=\"Open In Colab\"/></a>"
      ]
    },
    {
      "cell_type": "markdown",
      "metadata": {
        "id": "W6LXKzHpEcKJ"
      },
      "source": [
        "## 0) Ask Questions\n",
        "\n",
        "**GSC - Site Impressions**\n",
        "- What is the CTR curve for our search queries?\n",
        "- What is the ranking distribution of our search queries?\n",
        "\n",
        "**GSC - URL Impressions**\n",
        "- What are the top 10 categories by Clicks on our site?\n",
        "- What queries are experiencing cannibalization, meaning there is more than 1 URL ranking for that query?\n",
        "- What pages are driving Clicks this year that did not drive Clicks in the previous period?"
      ]
    },
    {
      "cell_type": "markdown",
      "metadata": {
        "id": "EapuqNWDEfho"
      },
      "source": [
        "## 0.1) Pull Data\n",
        "Once you know what questions you are trying to answer begin pulling the necessary data to start your data analysis. In this case, we will be using Google Search Console via Google Data Studio to answer all of the above questions.\n",
        "\n",
        "https://datastudio.google.com/reporting/839fec64-dd0a-4a61-befc-8d8f8647842b/page/6zXD"
      ]
    },
    {
      "cell_type": "markdown",
      "metadata": {
        "id": "rDHDoPp8Tt-k"
      },
      "source": [
        "## 0.2) Upload Files"
      ]
    },
    {
      "cell_type": "code",
      "metadata": {
        "colab": {
          "resources": {
            "http://localhost:8080/nbextensions/google.colab/files.js": {
              "data": "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",
              "ok": true,
              "headers": [
                [
                  "content-type",
                  "application/javascript"
                ]
              ],
              "status": 200,
              "status_text": ""
            }
          },
          "base_uri": "https://localhost:8080/",
          "height": 72
        },
        "id": "53mZDHPPSOF_",
        "outputId": "7a145127-28d7-46fd-fef7-419d71410132"
      },
      "source": [
        "from google.colab import files\r\n",
        "upload = files.upload()"
      ],
      "execution_count": 2,
      "outputs": [
        {
          "output_type": "display_data",
          "data": {
            "text/html": [
              "\n",
              "     <input type=\"file\" id=\"files-e88fa194-d8a3-4666-8101-f87f733064fc\" name=\"files[]\" multiple disabled\n",
              "        style=\"border:none\" />\n",
              "     <output id=\"result-e88fa194-d8a3-4666-8101-f87f733064fc\">\n",
              "      Upload widget is only available when the cell has been executed in the\n",
              "      current browser session. Please rerun this cell to enable.\n",
              "      </output>\n",
              "      <script src=\"/nbextensions/google.colab/files.js\"></script> "
            ],
            "text/plain": [
              "<IPython.core.display.HTML object>"
            ]
          },
          "metadata": {
            "tags": []
          }
        },
        {
          "output_type": "stream",
          "text": [
            "Saving search-console-landing-page-query-report.csv to search-console-landing-page-query-report.csv\n",
            "Saving search-console-query-report.csv to search-console-query-report.csv\n"
          ],
          "name": "stdout"
        }
      ]
    },
    {
      "cell_type": "markdown",
      "metadata": {
        "id": "PdPOFc2eOWES"
      },
      "source": [
        "# GSC - Site Impressions"
      ]
    },
    {
      "cell_type": "markdown",
      "metadata": {
        "id": "QnOISb7tqHP8"
      },
      "source": [
        "## 1) Import Libraries, and Read in CSV\n",
        "Import the necessary libraries and read in the data that will be used for the analysis."
      ]
    },
    {
      "cell_type": "code",
      "metadata": {
        "id": "BQxc_VHtXRga",
        "colab": {
          "base_uri": "https://localhost:8080/",
          "height": 204
        },
        "outputId": "2c8db68e-3ffa-48c8-e125-8736ee0b1b87"
      },
      "source": [
        "import pandas as pd\r\n",
        "import numpy as np\r\n",
        "import matplotlib.pyplot as plt\r\n",
        "\r\n",
        "df_query = pd.read_csv(\"search-console-query-report.csv\")\r\n",
        "df_query.head()"
      ],
      "execution_count": 3,
      "outputs": [
        {
          "output_type": "execute_result",
          "data": {
            "text/html": [
              "<div>\n",
              "<style scoped>\n",
              "    .dataframe tbody tr th:only-of-type {\n",
              "        vertical-align: middle;\n",
              "    }\n",
              "\n",
              "    .dataframe tbody tr th {\n",
              "        vertical-align: top;\n",
              "    }\n",
              "\n",
              "    .dataframe thead th {\n",
              "        text-align: right;\n",
              "    }\n",
              "</style>\n",
              "<table border=\"1\" class=\"dataframe\">\n",
              "  <thead>\n",
              "    <tr style=\"text-align: right;\">\n",
              "      <th></th>\n",
              "      <th>Query</th>\n",
              "      <th>Impressions</th>\n",
              "      <th>Δ</th>\n",
              "      <th>Clicks</th>\n",
              "      <th>Δ.1</th>\n",
              "      <th>Site CTR</th>\n",
              "      <th>Δ.2</th>\n",
              "      <th>Average Position</th>\n",
              "      <th>Δ.3</th>\n",
              "    </tr>\n",
              "  </thead>\n",
              "  <tbody>\n",
              "    <tr>\n",
              "      <th>0</th>\n",
              "      <td>dino game</td>\n",
              "      <td>267205</td>\n",
              "      <td>266471.0</td>\n",
              "      <td>6343</td>\n",
              "      <td>6340.0</td>\n",
              "      <td>0.023738</td>\n",
              "      <td>0.019651</td>\n",
              "      <td>5.366101</td>\n",
              "      <td>-16.534444</td>\n",
              "    </tr>\n",
              "    <tr>\n",
              "      <th>1</th>\n",
              "      <td>dinosaur game</td>\n",
              "      <td>690784</td>\n",
              "      <td>690576.0</td>\n",
              "      <td>3658</td>\n",
              "      <td>3658.0</td>\n",
              "      <td>0.005295</td>\n",
              "      <td>0.005295</td>\n",
              "      <td>7.826005</td>\n",
              "      <td>-76.385534</td>\n",
              "    </tr>\n",
              "    <tr>\n",
              "      <th>2</th>\n",
              "      <td>youtube merchandise</td>\n",
              "      <td>4354</td>\n",
              "      <td>-3808.0</td>\n",
              "      <td>843</td>\n",
              "      <td>-908.0</td>\n",
              "      <td>0.193615</td>\n",
              "      <td>-0.020916</td>\n",
              "      <td>1.152733</td>\n",
              "      <td>-0.022101</td>\n",
              "    </tr>\n",
              "    <tr>\n",
              "      <th>3</th>\n",
              "      <td>google merchandise store</td>\n",
              "      <td>14050</td>\n",
              "      <td>-30992.0</td>\n",
              "      <td>805</td>\n",
              "      <td>-608.0</td>\n",
              "      <td>0.057295</td>\n",
              "      <td>0.025925</td>\n",
              "      <td>1.278648</td>\n",
              "      <td>0.053325</td>\n",
              "    </tr>\n",
              "    <tr>\n",
              "      <th>4</th>\n",
              "      <td>chrome dino game</td>\n",
              "      <td>83129</td>\n",
              "      <td>82968.0</td>\n",
              "      <td>681</td>\n",
              "      <td>681.0</td>\n",
              "      <td>0.008192</td>\n",
              "      <td>0.008192</td>\n",
              "      <td>7.705843</td>\n",
              "      <td>-40.157511</td>\n",
              "    </tr>\n",
              "  </tbody>\n",
              "</table>\n",
              "</div>"
            ],
            "text/plain": [
              "                      Query  Impressions  ...  Average Position        Δ.3\n",
              "0                 dino game       267205  ...          5.366101 -16.534444\n",
              "1             dinosaur game       690784  ...          7.826005 -76.385534\n",
              "2       youtube merchandise         4354  ...          1.152733  -0.022101\n",
              "3  google merchandise store        14050  ...          1.278648   0.053325\n",
              "4          chrome dino game        83129  ...          7.705843 -40.157511\n",
              "\n",
              "[5 rows x 9 columns]"
            ]
          },
          "metadata": {
            "tags": []
          },
          "execution_count": 3
        }
      ]
    },
    {
      "cell_type": "code",
      "metadata": {
        "colab": {
          "base_uri": "https://localhost:8080/"
        },
        "id": "efBKurmBFEfL",
        "outputId": "16098ceb-a4d1-44f7-e631-3693a561b0f8"
      },
      "source": [
        "# Returns the number of rows and columns the dataset has.\r\n",
        "df_query.shape"
      ],
      "execution_count": 4,
      "outputs": [
        {
          "output_type": "execute_result",
          "data": {
            "text/plain": [
              "(22216, 9)"
            ]
          },
          "metadata": {
            "tags": []
          },
          "execution_count": 4
        }
      ]
    },
    {
      "cell_type": "markdown",
      "metadata": {
        "id": "QBj1LPMkqQlI"
      },
      "source": [
        "## 2) Clean the Data\n",
        "Clean the data up to make it easier for an analysis. This includes removing null values, renaming columns, and having the right data types. "
      ]
    },
    {
      "cell_type": "code",
      "metadata": {
        "id": "yDWX1cgKFcNC",
        "colab": {
          "base_uri": "https://localhost:8080/",
          "height": 204
        },
        "outputId": "ff7b432c-5dfd-4ebd-b1b4-b1092904fe44"
      },
      "source": [
        "# Rename columns to your preference\n",
        "df_query = df_query.rename(columns={\"Δ\": \"Impressions Difference\", \"Δ.1\": \"Clicks Difference\", \"Δ.2\":\"Site CTR Difference\", \"Δ.3\":\"Average Position Difference\"})\n",
        "df_query.head()"
      ],
      "execution_count": null,
      "outputs": [
        {
          "output_type": "execute_result",
          "data": {
            "text/html": [
              "<div>\n",
              "<style scoped>\n",
              "    .dataframe tbody tr th:only-of-type {\n",
              "        vertical-align: middle;\n",
              "    }\n",
              "\n",
              "    .dataframe tbody tr th {\n",
              "        vertical-align: top;\n",
              "    }\n",
              "\n",
              "    .dataframe thead th {\n",
              "        text-align: right;\n",
              "    }\n",
              "</style>\n",
              "<table border=\"1\" class=\"dataframe\">\n",
              "  <thead>\n",
              "    <tr style=\"text-align: right;\">\n",
              "      <th></th>\n",
              "      <th>Query</th>\n",
              "      <th>Impressions</th>\n",
              "      <th>Impressions Difference</th>\n",
              "      <th>Clicks</th>\n",
              "      <th>Clicks Difference</th>\n",
              "      <th>Site CTR</th>\n",
              "      <th>Site CTR Difference</th>\n",
              "      <th>Average Position</th>\n",
              "      <th>Average Position Difference</th>\n",
              "    </tr>\n",
              "  </thead>\n",
              "  <tbody>\n",
              "    <tr>\n",
              "      <th>0</th>\n",
              "      <td>dino game</td>\n",
              "      <td>267205</td>\n",
              "      <td>266471.0</td>\n",
              "      <td>6343</td>\n",
              "      <td>6340.0</td>\n",
              "      <td>0.023738</td>\n",
              "      <td>0.019651</td>\n",
              "      <td>5.366101</td>\n",
              "      <td>-16.534444</td>\n",
              "    </tr>\n",
              "    <tr>\n",
              "      <th>1</th>\n",
              "      <td>dinosaur game</td>\n",
              "      <td>690784</td>\n",
              "      <td>690576.0</td>\n",
              "      <td>3658</td>\n",
              "      <td>3658.0</td>\n",
              "      <td>0.005295</td>\n",
              "      <td>0.005295</td>\n",
              "      <td>7.826005</td>\n",
              "      <td>-76.385534</td>\n",
              "    </tr>\n",
              "    <tr>\n",
              "      <th>2</th>\n",
              "      <td>youtube merchandise</td>\n",
              "      <td>4354</td>\n",
              "      <td>-3808.0</td>\n",
              "      <td>843</td>\n",
              "      <td>-908.0</td>\n",
              "      <td>0.193615</td>\n",
              "      <td>-0.020916</td>\n",
              "      <td>1.152733</td>\n",
              "      <td>-0.022101</td>\n",
              "    </tr>\n",
              "    <tr>\n",
              "      <th>3</th>\n",
              "      <td>google merchandise store</td>\n",
              "      <td>14050</td>\n",
              "      <td>-30992.0</td>\n",
              "      <td>805</td>\n",
              "      <td>-608.0</td>\n",
              "      <td>0.057295</td>\n",
              "      <td>0.025925</td>\n",
              "      <td>1.278648</td>\n",
              "      <td>0.053325</td>\n",
              "    </tr>\n",
              "    <tr>\n",
              "      <th>4</th>\n",
              "      <td>chrome dino game</td>\n",
              "      <td>83129</td>\n",
              "      <td>82968.0</td>\n",
              "      <td>681</td>\n",
              "      <td>681.0</td>\n",
              "      <td>0.008192</td>\n",
              "      <td>0.008192</td>\n",
              "      <td>7.705843</td>\n",
              "      <td>-40.157511</td>\n",
              "    </tr>\n",
              "  </tbody>\n",
              "</table>\n",
              "</div>"
            ],
            "text/plain": [
              "                      Query  ...  Average Position Difference\n",
              "0                 dino game  ...                   -16.534444\n",
              "1             dinosaur game  ...                   -76.385534\n",
              "2       youtube merchandise  ...                    -0.022101\n",
              "3  google merchandise store  ...                     0.053325\n",
              "4          chrome dino game  ...                   -40.157511\n",
              "\n",
              "[5 rows x 9 columns]"
            ]
          },
          "metadata": {
            "tags": []
          },
          "execution_count": 36
        }
      ]
    },
    {
      "cell_type": "code",
      "metadata": {
        "id": "aQw_yVviFih1",
        "colab": {
          "base_uri": "https://localhost:8080/"
        },
        "outputId": "5eb980b0-2e7a-46d6-90da-0b56658cdfd7"
      },
      "source": [
        "# Check for null values in the dataset\n",
        "df_query.isnull().sum()"
      ],
      "execution_count": null,
      "outputs": [
        {
          "output_type": "execute_result",
          "data": {
            "text/plain": [
              "Query                              0\n",
              "Impressions                        0\n",
              "Impressions Difference         13266\n",
              "Clicks                             0\n",
              "Clicks Difference              13266\n",
              "Site CTR                           0\n",
              "Site CTR Difference            13266\n",
              "Average Position                   0\n",
              "Average Position Difference    13266\n",
              "dtype: int64"
            ]
          },
          "metadata": {
            "tags": []
          },
          "execution_count": 37
        }
      ]
    },
    {
      "cell_type": "code",
      "metadata": {
        "id": "ZygVlylHFqCj",
        "colab": {
          "base_uri": "https://localhost:8080/",
          "height": 419
        },
        "outputId": "28b9f5af-8459-4d04-ca49-babc06a931bb"
      },
      "source": [
        "# Filters to rows where Impressions Difference has a null value\n",
        "df_query[df_query['Impressions Difference'].isnull()]"
      ],
      "execution_count": null,
      "outputs": [
        {
          "output_type": "execute_result",
          "data": {
            "text/html": [
              "<div>\n",
              "<style scoped>\n",
              "    .dataframe tbody tr th:only-of-type {\n",
              "        vertical-align: middle;\n",
              "    }\n",
              "\n",
              "    .dataframe tbody tr th {\n",
              "        vertical-align: top;\n",
              "    }\n",
              "\n",
              "    .dataframe thead th {\n",
              "        text-align: right;\n",
              "    }\n",
              "</style>\n",
              "<table border=\"1\" class=\"dataframe\">\n",
              "  <thead>\n",
              "    <tr style=\"text-align: right;\">\n",
              "      <th></th>\n",
              "      <th>Query</th>\n",
              "      <th>Impressions</th>\n",
              "      <th>Impressions Difference</th>\n",
              "      <th>Clicks</th>\n",
              "      <th>Clicks Difference</th>\n",
              "      <th>Site CTR</th>\n",
              "      <th>Site CTR Difference</th>\n",
              "      <th>Average Position</th>\n",
              "      <th>Average Position Difference</th>\n",
              "    </tr>\n",
              "  </thead>\n",
              "  <tbody>\n",
              "    <tr>\n",
              "      <th>54</th>\n",
              "      <td>google zip hoodie f/c</td>\n",
              "      <td>141</td>\n",
              "      <td>NaN</td>\n",
              "      <td>45</td>\n",
              "      <td>NaN</td>\n",
              "      <td>0.319149</td>\n",
              "      <td>NaN</td>\n",
              "      <td>1.000000</td>\n",
              "      <td>NaN</td>\n",
              "    </tr>\n",
              "    <tr>\n",
              "      <th>75</th>\n",
              "      <td>google swag 2020</td>\n",
              "      <td>157</td>\n",
              "      <td>NaN</td>\n",
              "      <td>31</td>\n",
              "      <td>NaN</td>\n",
              "      <td>0.197452</td>\n",
              "      <td>NaN</td>\n",
              "      <td>2.656051</td>\n",
              "      <td>NaN</td>\n",
              "    </tr>\n",
              "    <tr>\n",
              "      <th>94</th>\n",
              "      <td>머천다이즈 스토어</td>\n",
              "      <td>36</td>\n",
              "      <td>NaN</td>\n",
              "      <td>24</td>\n",
              "      <td>NaN</td>\n",
              "      <td>0.666667</td>\n",
              "      <td>NaN</td>\n",
              "      <td>1.000000</td>\n",
              "      <td>NaN</td>\n",
              "    </tr>\n",
              "    <tr>\n",
              "      <th>96</th>\n",
              "      <td>google cloud certification swag</td>\n",
              "      <td>68</td>\n",
              "      <td>NaN</td>\n",
              "      <td>23</td>\n",
              "      <td>NaN</td>\n",
              "      <td>0.338235</td>\n",
              "      <td>NaN</td>\n",
              "      <td>1.720588</td>\n",
              "      <td>NaN</td>\n",
              "    </tr>\n",
              "    <tr>\n",
              "      <th>109</th>\n",
              "      <td>/google+redesign/apparel/mens/quickview</td>\n",
              "      <td>33</td>\n",
              "      <td>NaN</td>\n",
              "      <td>20</td>\n",
              "      <td>NaN</td>\n",
              "      <td>0.606061</td>\n",
              "      <td>NaN</td>\n",
              "      <td>1.000000</td>\n",
              "      <td>NaN</td>\n",
              "    </tr>\n",
              "    <tr>\n",
              "      <th>...</th>\n",
              "      <td>...</td>\n",
              "      <td>...</td>\n",
              "      <td>...</td>\n",
              "      <td>...</td>\n",
              "      <td>...</td>\n",
              "      <td>...</td>\n",
              "      <td>...</td>\n",
              "      <td>...</td>\n",
              "      <td>...</td>\n",
              "    </tr>\n",
              "    <tr>\n",
              "      <th>22203</th>\n",
              "      <td>notebook google shopping</td>\n",
              "      <td>1</td>\n",
              "      <td>NaN</td>\n",
              "      <td>0</td>\n",
              "      <td>NaN</td>\n",
              "      <td>0.000000</td>\n",
              "      <td>NaN</td>\n",
              "      <td>11.000000</td>\n",
              "      <td>NaN</td>\n",
              "    </tr>\n",
              "    <tr>\n",
              "      <th>22205</th>\n",
              "      <td>petcollar</td>\n",
              "      <td>10</td>\n",
              "      <td>NaN</td>\n",
              "      <td>0</td>\n",
              "      <td>NaN</td>\n",
              "      <td>0.000000</td>\n",
              "      <td>NaN</td>\n",
              "      <td>11.800000</td>\n",
              "      <td>NaN</td>\n",
              "    </tr>\n",
              "    <tr>\n",
              "      <th>22206</th>\n",
              "      <td>no internet t rex game</td>\n",
              "      <td>13</td>\n",
              "      <td>NaN</td>\n",
              "      <td>0</td>\n",
              "      <td>NaN</td>\n",
              "      <td>0.000000</td>\n",
              "      <td>NaN</td>\n",
              "      <td>42.615385</td>\n",
              "      <td>NaN</td>\n",
              "    </tr>\n",
              "    <tr>\n",
              "      <th>22208</th>\n",
              "      <td>crew neck sweatshirt navy</td>\n",
              "      <td>2</td>\n",
              "      <td>NaN</td>\n",
              "      <td>0</td>\n",
              "      <td>NaN</td>\n",
              "      <td>0.000000</td>\n",
              "      <td>NaN</td>\n",
              "      <td>10.000000</td>\n",
              "      <td>NaN</td>\n",
              "    </tr>\n",
              "    <tr>\n",
              "      <th>22210</th>\n",
              "      <td>charcoal</td>\n",
              "      <td>9</td>\n",
              "      <td>NaN</td>\n",
              "      <td>0</td>\n",
              "      <td>NaN</td>\n",
              "      <td>0.000000</td>\n",
              "      <td>NaN</td>\n",
              "      <td>82.000000</td>\n",
              "      <td>NaN</td>\n",
              "    </tr>\n",
              "  </tbody>\n",
              "</table>\n",
              "<p>13266 rows × 9 columns</p>\n",
              "</div>"
            ],
            "text/plain": [
              "                                         Query  ...  Average Position Difference\n",
              "54                       google zip hoodie f/c  ...                          NaN\n",
              "75                            google swag 2020  ...                          NaN\n",
              "94                                   머천다이즈 스토어  ...                          NaN\n",
              "96             google cloud certification swag  ...                          NaN\n",
              "109    /google+redesign/apparel/mens/quickview  ...                          NaN\n",
              "...                                        ...  ...                          ...\n",
              "22203                 notebook google shopping  ...                          NaN\n",
              "22205                                petcollar  ...                          NaN\n",
              "22206                   no internet t rex game  ...                          NaN\n",
              "22208                crew neck sweatshirt navy  ...                          NaN\n",
              "22210                                 charcoal  ...                          NaN\n",
              "\n",
              "[13266 rows x 9 columns]"
            ]
          },
          "metadata": {
            "tags": []
          },
          "execution_count": 38
        }
      ]
    },
    {
      "cell_type": "code",
      "metadata": {
        "id": "_jyRtjwTFqMZ",
        "colab": {
          "base_uri": "https://localhost:8080/"
        },
        "outputId": "cf231d36-298a-4dea-dc04-5a97e608424c"
      },
      "source": [
        "# Replace all null values in the data set with 0\n",
        "df_query = df_query.fillna(0)\n",
        "df_query.isnull().sum()"
      ],
      "execution_count": null,
      "outputs": [
        {
          "output_type": "execute_result",
          "data": {
            "text/plain": [
              "Query                          0\n",
              "Impressions                    0\n",
              "Impressions Difference         0\n",
              "Clicks                         0\n",
              "Clicks Difference              0\n",
              "Site CTR                       0\n",
              "Site CTR Difference            0\n",
              "Average Position               0\n",
              "Average Position Difference    0\n",
              "dtype: int64"
            ]
          },
          "metadata": {
            "tags": []
          },
          "execution_count": 39
        }
      ]
    },
    {
      "cell_type": "code",
      "metadata": {
        "colab": {
          "base_uri": "https://localhost:8080/"
        },
        "id": "UiTtaY5CDc6v",
        "outputId": "7e3e5bad-d11d-46c9-8eb7-f1751b2be0b3"
      },
      "source": [
        "df_query.dtypes"
      ],
      "execution_count": null,
      "outputs": [
        {
          "output_type": "execute_result",
          "data": {
            "text/plain": [
              "Query                           object\n",
              "Impressions                      int64\n",
              "Impressions Difference         float64\n",
              "Clicks                           int64\n",
              "Clicks Difference              float64\n",
              "Site CTR                       float64\n",
              "Site CTR Difference            float64\n",
              "Average Position               float64\n",
              "Average Position Difference    float64\n",
              "dtype: object"
            ]
          },
          "metadata": {
            "tags": []
          },
          "execution_count": 40
        }
      ]
    },
    {
      "cell_type": "code",
      "metadata": {
        "colab": {
          "base_uri": "https://localhost:8080/"
        },
        "id": "-LyPXEV3Dmxo",
        "outputId": "fc362f95-f638-4240-f7c1-ef2d77069dc3"
      },
      "source": [
        "df_query['Impressions Difference'] = df_query['Impressions Difference'].astype('int64')\r\n",
        "df_query['Clicks Difference'] = df_query['Clicks Difference'].astype('int64')\r\n",
        "df_query.dtypes"
      ],
      "execution_count": null,
      "outputs": [
        {
          "output_type": "execute_result",
          "data": {
            "text/plain": [
              "Query                           object\n",
              "Impressions                      int64\n",
              "Impressions Difference           int64\n",
              "Clicks                           int64\n",
              "Clicks Difference                int64\n",
              "Site CTR                       float64\n",
              "Site CTR Difference            float64\n",
              "Average Position               float64\n",
              "Average Position Difference    float64\n",
              "dtype: object"
            ]
          },
          "metadata": {
            "tags": []
          },
          "execution_count": 41
        }
      ]
    },
    {
      "cell_type": "markdown",
      "metadata": {
        "id": "D8l3St8qF4Bc"
      },
      "source": [
        "## 3) Derive New Columns and Dataframes\r\n",
        "Create values from the existing data to help with the analysis, such as a rounded position column or breaking down brand and a non-brand into separate dataframes."
      ]
    },
    {
      "cell_type": "code",
      "metadata": {
        "colab": {
          "base_uri": "https://localhost:8080/",
          "height": 204
        },
        "id": "ZbMUThKCDQVy",
        "outputId": "0c6e9fb0-5ae9-4ad2-d313-6b8f728d45c9"
      },
      "source": [
        "# Creates a new column that rounds the Average Position.\r\n",
        "df_query['Rounded Position'] = df_query['Average Position'].round(0).astype('int64')\r\n",
        "df_query.head()"
      ],
      "execution_count": null,
      "outputs": [
        {
          "output_type": "execute_result",
          "data": {
            "text/html": [
              "<div>\n",
              "<style scoped>\n",
              "    .dataframe tbody tr th:only-of-type {\n",
              "        vertical-align: middle;\n",
              "    }\n",
              "\n",
              "    .dataframe tbody tr th {\n",
              "        vertical-align: top;\n",
              "    }\n",
              "\n",
              "    .dataframe thead th {\n",
              "        text-align: right;\n",
              "    }\n",
              "</style>\n",
              "<table border=\"1\" class=\"dataframe\">\n",
              "  <thead>\n",
              "    <tr style=\"text-align: right;\">\n",
              "      <th></th>\n",
              "      <th>Query</th>\n",
              "      <th>Impressions</th>\n",
              "      <th>Impressions Difference</th>\n",
              "      <th>Clicks</th>\n",
              "      <th>Clicks Difference</th>\n",
              "      <th>Site CTR</th>\n",
              "      <th>Site CTR Difference</th>\n",
              "      <th>Average Position</th>\n",
              "      <th>Average Position Difference</th>\n",
              "      <th>Rounded Position</th>\n",
              "    </tr>\n",
              "  </thead>\n",
              "  <tbody>\n",
              "    <tr>\n",
              "      <th>0</th>\n",
              "      <td>dino game</td>\n",
              "      <td>267205</td>\n",
              "      <td>266471</td>\n",
              "      <td>6343</td>\n",
              "      <td>6340</td>\n",
              "      <td>0.023738</td>\n",
              "      <td>0.019651</td>\n",
              "      <td>5.366101</td>\n",
              "      <td>-16.534444</td>\n",
              "      <td>5</td>\n",
              "    </tr>\n",
              "    <tr>\n",
              "      <th>1</th>\n",
              "      <td>dinosaur game</td>\n",
              "      <td>690784</td>\n",
              "      <td>690576</td>\n",
              "      <td>3658</td>\n",
              "      <td>3658</td>\n",
              "      <td>0.005295</td>\n",
              "      <td>0.005295</td>\n",
              "      <td>7.826005</td>\n",
              "      <td>-76.385534</td>\n",
              "      <td>8</td>\n",
              "    </tr>\n",
              "    <tr>\n",
              "      <th>2</th>\n",
              "      <td>youtube merchandise</td>\n",
              "      <td>4354</td>\n",
              "      <td>-3808</td>\n",
              "      <td>843</td>\n",
              "      <td>-908</td>\n",
              "      <td>0.193615</td>\n",
              "      <td>-0.020916</td>\n",
              "      <td>1.152733</td>\n",
              "      <td>-0.022101</td>\n",
              "      <td>1</td>\n",
              "    </tr>\n",
              "    <tr>\n",
              "      <th>3</th>\n",
              "      <td>google merchandise store</td>\n",
              "      <td>14050</td>\n",
              "      <td>-30992</td>\n",
              "      <td>805</td>\n",
              "      <td>-608</td>\n",
              "      <td>0.057295</td>\n",
              "      <td>0.025925</td>\n",
              "      <td>1.278648</td>\n",
              "      <td>0.053325</td>\n",
              "      <td>1</td>\n",
              "    </tr>\n",
              "    <tr>\n",
              "      <th>4</th>\n",
              "      <td>chrome dino game</td>\n",
              "      <td>83129</td>\n",
              "      <td>82968</td>\n",
              "      <td>681</td>\n",
              "      <td>681</td>\n",
              "      <td>0.008192</td>\n",
              "      <td>0.008192</td>\n",
              "      <td>7.705843</td>\n",
              "      <td>-40.157511</td>\n",
              "      <td>8</td>\n",
              "    </tr>\n",
              "  </tbody>\n",
              "</table>\n",
              "</div>"
            ],
            "text/plain": [
              "                      Query  ...  Rounded Position\n",
              "0                 dino game  ...                 5\n",
              "1             dinosaur game  ...                 8\n",
              "2       youtube merchandise  ...                 1\n",
              "3  google merchandise store  ...                 1\n",
              "4          chrome dino game  ...                 8\n",
              "\n",
              "[5 rows x 10 columns]"
            ]
          },
          "metadata": {
            "tags": []
          },
          "execution_count": 42
        }
      ]
    },
    {
      "cell_type": "code",
      "metadata": {
        "id": "fluJHVVaGE9h",
        "colab": {
          "base_uri": "https://localhost:8080/",
          "height": 255
        },
        "outputId": "f206e654-6a8a-4cb1-9ff0-a8c19a6be145"
      },
      "source": [
        "# Creates new columns for the value of the previous period, given we only have the data \n",
        "# for the current period and the absolute change. \n",
        "df_query['Impressions (Prior Period)'] = (df_query['Impressions'] - df_query['Impressions Difference'])\n",
        "df_query['Clicks (Prior Period)'] = (df_query['Clicks'] - df_query['Clicks Difference'])\n",
        "df_query['Site CTR (Prior Period)'] = (df_query['Site CTR'] - df_query['Site CTR Difference'])\n",
        "df_query.head()"
      ],
      "execution_count": null,
      "outputs": [
        {
          "output_type": "execute_result",
          "data": {
            "text/html": [
              "<div>\n",
              "<style scoped>\n",
              "    .dataframe tbody tr th:only-of-type {\n",
              "        vertical-align: middle;\n",
              "    }\n",
              "\n",
              "    .dataframe tbody tr th {\n",
              "        vertical-align: top;\n",
              "    }\n",
              "\n",
              "    .dataframe thead th {\n",
              "        text-align: right;\n",
              "    }\n",
              "</style>\n",
              "<table border=\"1\" class=\"dataframe\">\n",
              "  <thead>\n",
              "    <tr style=\"text-align: right;\">\n",
              "      <th></th>\n",
              "      <th>Query</th>\n",
              "      <th>Impressions</th>\n",
              "      <th>Impressions Difference</th>\n",
              "      <th>Clicks</th>\n",
              "      <th>Clicks Difference</th>\n",
              "      <th>Site CTR</th>\n",
              "      <th>Site CTR Difference</th>\n",
              "      <th>Average Position</th>\n",
              "      <th>Average Position Difference</th>\n",
              "      <th>Rounded Position</th>\n",
              "      <th>Impressions (Prior Period)</th>\n",
              "      <th>Clicks (Prior Period)</th>\n",
              "      <th>Site CTR (Prior Period)</th>\n",
              "    </tr>\n",
              "  </thead>\n",
              "  <tbody>\n",
              "    <tr>\n",
              "      <th>0</th>\n",
              "      <td>dino game</td>\n",
              "      <td>267205</td>\n",
              "      <td>266471</td>\n",
              "      <td>6343</td>\n",
              "      <td>6340</td>\n",
              "      <td>0.023738</td>\n",
              "      <td>0.019651</td>\n",
              "      <td>5.366101</td>\n",
              "      <td>-16.534444</td>\n",
              "      <td>5</td>\n",
              "      <td>734</td>\n",
              "      <td>3</td>\n",
              "      <td>0.004087</td>\n",
              "    </tr>\n",
              "    <tr>\n",
              "      <th>1</th>\n",
              "      <td>dinosaur game</td>\n",
              "      <td>690784</td>\n",
              "      <td>690576</td>\n",
              "      <td>3658</td>\n",
              "      <td>3658</td>\n",
              "      <td>0.005295</td>\n",
              "      <td>0.005295</td>\n",
              "      <td>7.826005</td>\n",
              "      <td>-76.385534</td>\n",
              "      <td>8</td>\n",
              "      <td>208</td>\n",
              "      <td>0</td>\n",
              "      <td>0.000000</td>\n",
              "    </tr>\n",
              "    <tr>\n",
              "      <th>2</th>\n",
              "      <td>youtube merchandise</td>\n",
              "      <td>4354</td>\n",
              "      <td>-3808</td>\n",
              "      <td>843</td>\n",
              "      <td>-908</td>\n",
              "      <td>0.193615</td>\n",
              "      <td>-0.020916</td>\n",
              "      <td>1.152733</td>\n",
              "      <td>-0.022101</td>\n",
              "      <td>1</td>\n",
              "      <td>8162</td>\n",
              "      <td>1751</td>\n",
              "      <td>0.214531</td>\n",
              "    </tr>\n",
              "    <tr>\n",
              "      <th>3</th>\n",
              "      <td>google merchandise store</td>\n",
              "      <td>14050</td>\n",
              "      <td>-30992</td>\n",
              "      <td>805</td>\n",
              "      <td>-608</td>\n",
              "      <td>0.057295</td>\n",
              "      <td>0.025925</td>\n",
              "      <td>1.278648</td>\n",
              "      <td>0.053325</td>\n",
              "      <td>1</td>\n",
              "      <td>45042</td>\n",
              "      <td>1413</td>\n",
              "      <td>0.031371</td>\n",
              "    </tr>\n",
              "    <tr>\n",
              "      <th>4</th>\n",
              "      <td>chrome dino game</td>\n",
              "      <td>83129</td>\n",
              "      <td>82968</td>\n",
              "      <td>681</td>\n",
              "      <td>681</td>\n",
              "      <td>0.008192</td>\n",
              "      <td>0.008192</td>\n",
              "      <td>7.705843</td>\n",
              "      <td>-40.157511</td>\n",
              "      <td>8</td>\n",
              "      <td>161</td>\n",
              "      <td>0</td>\n",
              "      <td>0.000000</td>\n",
              "    </tr>\n",
              "  </tbody>\n",
              "</table>\n",
              "</div>"
            ],
            "text/plain": [
              "                      Query  ...  Site CTR (Prior Period)\n",
              "0                 dino game  ...                 0.004087\n",
              "1             dinosaur game  ...                 0.000000\n",
              "2       youtube merchandise  ...                 0.214531\n",
              "3  google merchandise store  ...                 0.031371\n",
              "4          chrome dino game  ...                 0.000000\n",
              "\n",
              "[5 rows x 13 columns]"
            ]
          },
          "metadata": {
            "tags": []
          },
          "execution_count": 43
        }
      ]
    },
    {
      "cell_type": "code",
      "metadata": {
        "colab": {
          "base_uri": "https://localhost:8080/",
          "height": 306
        },
        "id": "Bh2NZiwX_pKV",
        "outputId": "e915434d-6d33-4285-a498-e5fb204e5ba0"
      },
      "source": [
        "# Create a function for brand vs. non-brand and apply it to a new column. \r\n",
        "def brand_non_brand(x):\r\n",
        "    if 'google' in x:\r\n",
        "        return 'Brand'\r\n",
        "    else:\r\n",
        "        return 'Non-Brand'\r\n",
        "\r\n",
        "df_query['Brand vs. Non-Brand'] = df_query['Query'].apply(brand_non_brand)\r\n",
        "df_query.head()"
      ],
      "execution_count": null,
      "outputs": [
        {
          "output_type": "execute_result",
          "data": {
            "text/html": [
              "<div>\n",
              "<style scoped>\n",
              "    .dataframe tbody tr th:only-of-type {\n",
              "        vertical-align: middle;\n",
              "    }\n",
              "\n",
              "    .dataframe tbody tr th {\n",
              "        vertical-align: top;\n",
              "    }\n",
              "\n",
              "    .dataframe thead th {\n",
              "        text-align: right;\n",
              "    }\n",
              "</style>\n",
              "<table border=\"1\" class=\"dataframe\">\n",
              "  <thead>\n",
              "    <tr style=\"text-align: right;\">\n",
              "      <th></th>\n",
              "      <th>Query</th>\n",
              "      <th>Impressions</th>\n",
              "      <th>Impressions Difference</th>\n",
              "      <th>Clicks</th>\n",
              "      <th>Clicks Difference</th>\n",
              "      <th>Site CTR</th>\n",
              "      <th>Site CTR Difference</th>\n",
              "      <th>Average Position</th>\n",
              "      <th>Average Position Difference</th>\n",
              "      <th>Rounded Position</th>\n",
              "      <th>Impressions (Prior Period)</th>\n",
              "      <th>Clicks (Prior Period)</th>\n",
              "      <th>Site CTR (Prior Period)</th>\n",
              "      <th>Brand vs. Non-Brand</th>\n",
              "    </tr>\n",
              "  </thead>\n",
              "  <tbody>\n",
              "    <tr>\n",
              "      <th>0</th>\n",
              "      <td>dino game</td>\n",
              "      <td>267205</td>\n",
              "      <td>266471</td>\n",
              "      <td>6343</td>\n",
              "      <td>6340</td>\n",
              "      <td>0.023738</td>\n",
              "      <td>0.019651</td>\n",
              "      <td>5.366101</td>\n",
              "      <td>-16.534444</td>\n",
              "      <td>5</td>\n",
              "      <td>734</td>\n",
              "      <td>3</td>\n",
              "      <td>0.004087</td>\n",
              "      <td>Non-Brand</td>\n",
              "    </tr>\n",
              "    <tr>\n",
              "      <th>1</th>\n",
              "      <td>dinosaur game</td>\n",
              "      <td>690784</td>\n",
              "      <td>690576</td>\n",
              "      <td>3658</td>\n",
              "      <td>3658</td>\n",
              "      <td>0.005295</td>\n",
              "      <td>0.005295</td>\n",
              "      <td>7.826005</td>\n",
              "      <td>-76.385534</td>\n",
              "      <td>8</td>\n",
              "      <td>208</td>\n",
              "      <td>0</td>\n",
              "      <td>0.000000</td>\n",
              "      <td>Non-Brand</td>\n",
              "    </tr>\n",
              "    <tr>\n",
              "      <th>2</th>\n",
              "      <td>youtube merchandise</td>\n",
              "      <td>4354</td>\n",
              "      <td>-3808</td>\n",
              "      <td>843</td>\n",
              "      <td>-908</td>\n",
              "      <td>0.193615</td>\n",
              "      <td>-0.020916</td>\n",
              "      <td>1.152733</td>\n",
              "      <td>-0.022101</td>\n",
              "      <td>1</td>\n",
              "      <td>8162</td>\n",
              "      <td>1751</td>\n",
              "      <td>0.214531</td>\n",
              "      <td>Non-Brand</td>\n",
              "    </tr>\n",
              "    <tr>\n",
              "      <th>3</th>\n",
              "      <td>google merchandise store</td>\n",
              "      <td>14050</td>\n",
              "      <td>-30992</td>\n",
              "      <td>805</td>\n",
              "      <td>-608</td>\n",
              "      <td>0.057295</td>\n",
              "      <td>0.025925</td>\n",
              "      <td>1.278648</td>\n",
              "      <td>0.053325</td>\n",
              "      <td>1</td>\n",
              "      <td>45042</td>\n",
              "      <td>1413</td>\n",
              "      <td>0.031371</td>\n",
              "      <td>Brand</td>\n",
              "    </tr>\n",
              "    <tr>\n",
              "      <th>4</th>\n",
              "      <td>chrome dino game</td>\n",
              "      <td>83129</td>\n",
              "      <td>82968</td>\n",
              "      <td>681</td>\n",
              "      <td>681</td>\n",
              "      <td>0.008192</td>\n",
              "      <td>0.008192</td>\n",
              "      <td>7.705843</td>\n",
              "      <td>-40.157511</td>\n",
              "      <td>8</td>\n",
              "      <td>161</td>\n",
              "      <td>0</td>\n",
              "      <td>0.000000</td>\n",
              "      <td>Non-Brand</td>\n",
              "    </tr>\n",
              "  </tbody>\n",
              "</table>\n",
              "</div>"
            ],
            "text/plain": [
              "                      Query  ...  Brand vs. Non-Brand\n",
              "0                 dino game  ...            Non-Brand\n",
              "1             dinosaur game  ...            Non-Brand\n",
              "2       youtube merchandise  ...            Non-Brand\n",
              "3  google merchandise store  ...                Brand\n",
              "4          chrome dino game  ...            Non-Brand\n",
              "\n",
              "[5 rows x 14 columns]"
            ]
          },
          "metadata": {
            "tags": []
          },
          "execution_count": 44
        }
      ]
    },
    {
      "cell_type": "markdown",
      "metadata": {
        "id": "-ZvH_u8PrkXh"
      },
      "source": [
        "## 4) Analysis"
      ]
    },
    {
      "cell_type": "markdown",
      "metadata": {
        "id": "XhhwAHBLWB7Y"
      },
      "source": [
        "### CTR Curve\r\n",
        "Aggregates the data into pivot tables to create a CTR curve."
      ]
    },
    {
      "cell_type": "markdown",
      "metadata": {
        "id": "F1LNok05PcF_"
      },
      "source": [
        "##### Total Site"
      ]
    },
    {
      "cell_type": "code",
      "metadata": {
        "id": "tmZuzU0crniR",
        "colab": {
          "base_uri": "https://localhost:8080/",
          "height": 390
        },
        "outputId": "1cf2ebbc-b06c-4835-be7f-44142583b8fc"
      },
      "source": [
        "# Creates a pivot table that averages the Site CTR by the Rounded Position. \r\n",
        "ctr_pivot = df_query.pivot_table(index=('Rounded Position'), values=['Site CTR'], aggfunc={'Site CTR':\"mean\"}).sort_values(by=['Rounded Position'], ascending=True)\r\n",
        "ctr_pivot.head(10)"
      ],
      "execution_count": null,
      "outputs": [
        {
          "output_type": "execute_result",
          "data": {
            "text/html": [
              "<div>\n",
              "<style scoped>\n",
              "    .dataframe tbody tr th:only-of-type {\n",
              "        vertical-align: middle;\n",
              "    }\n",
              "\n",
              "    .dataframe tbody tr th {\n",
              "        vertical-align: top;\n",
              "    }\n",
              "\n",
              "    .dataframe thead th {\n",
              "        text-align: right;\n",
              "    }\n",
              "</style>\n",
              "<table border=\"1\" class=\"dataframe\">\n",
              "  <thead>\n",
              "    <tr style=\"text-align: right;\">\n",
              "      <th></th>\n",
              "      <th>Site CTR</th>\n",
              "    </tr>\n",
              "    <tr>\n",
              "      <th>Rounded Position</th>\n",
              "      <th></th>\n",
              "    </tr>\n",
              "  </thead>\n",
              "  <tbody>\n",
              "    <tr>\n",
              "      <th>1</th>\n",
              "      <td>0.078830</td>\n",
              "    </tr>\n",
              "    <tr>\n",
              "      <th>2</th>\n",
              "      <td>0.040984</td>\n",
              "    </tr>\n",
              "    <tr>\n",
              "      <th>3</th>\n",
              "      <td>0.031735</td>\n",
              "    </tr>\n",
              "    <tr>\n",
              "      <th>4</th>\n",
              "      <td>0.017104</td>\n",
              "    </tr>\n",
              "    <tr>\n",
              "      <th>5</th>\n",
              "      <td>0.016742</td>\n",
              "    </tr>\n",
              "    <tr>\n",
              "      <th>6</th>\n",
              "      <td>0.014567</td>\n",
              "    </tr>\n",
              "    <tr>\n",
              "      <th>7</th>\n",
              "      <td>0.008865</td>\n",
              "    </tr>\n",
              "    <tr>\n",
              "      <th>8</th>\n",
              "      <td>0.004700</td>\n",
              "    </tr>\n",
              "    <tr>\n",
              "      <th>9</th>\n",
              "      <td>0.004094</td>\n",
              "    </tr>\n",
              "    <tr>\n",
              "      <th>10</th>\n",
              "      <td>0.002375</td>\n",
              "    </tr>\n",
              "  </tbody>\n",
              "</table>\n",
              "</div>"
            ],
            "text/plain": [
              "                  Site CTR\n",
              "Rounded Position          \n",
              "1                 0.078830\n",
              "2                 0.040984\n",
              "3                 0.031735\n",
              "4                 0.017104\n",
              "5                 0.016742\n",
              "6                 0.014567\n",
              "7                 0.008865\n",
              "8                 0.004700\n",
              "9                 0.004094\n",
              "10                0.002375"
            ]
          },
          "metadata": {
            "tags": []
          },
          "execution_count": 121
        }
      ]
    },
    {
      "cell_type": "code",
      "metadata": {
        "id": "G8yyrEnzAEZW",
        "colab": {
          "base_uri": "https://localhost:8080/",
          "height": 315
        },
        "outputId": "575cd4d9-b772-44c6-af28-040cf96336b0"
      },
      "source": [
        "ax = ctr_pivot.head(10).plot(kind='bar')\r\n",
        "ax.set_ylabel('Site CTR')\r\n",
        "ax.set_title('Total Site CTR Curve')"
      ],
      "execution_count": null,
      "outputs": [
        {
          "output_type": "execute_result",
          "data": {
            "text/plain": [
              "Text(0.5, 1.0, 'Total Site CTR Curve')"
            ]
          },
          "metadata": {
            "tags": []
          },
          "execution_count": 122
        },
        {
          "output_type": "display_data",
          "data": {
            "image/png": "[encoded data removed]",
            "text/plain": [
              "<Figure size 432x288 with 1 Axes>"
            ]
          },
          "metadata": {
            "tags": [],
            "needs_background": "light"
          }
        }
      ]
    },
    {
      "cell_type": "markdown",
      "metadata": {
        "id": "-IFqcnPtPido"
      },
      "source": [
        "##### Brand"
      ]
    },
    {
      "cell_type": "code",
      "metadata": {
        "id": "y4Oibrp6GnKj",
        "colab": {
          "base_uri": "https://localhost:8080/",
          "height": 390
        },
        "outputId": "a4143e8f-2c8e-4910-e112-c6929f5bf54e"
      },
      "source": [
        "brand_ctr_pivot = df_query[df_query['Brand vs. Non-Brand']=='Brand'].pivot_table(index=('Rounded Position'), values=['Site CTR'], aggfunc={'Site CTR':\"mean\"}).sort_values(by=['Rounded Position'], ascending=True)\r\n",
        "brand_ctr_pivot.head(10)"
      ],
      "execution_count": null,
      "outputs": [
        {
          "output_type": "execute_result",
          "data": {
            "text/html": [
              "<div>\n",
              "<style scoped>\n",
              "    .dataframe tbody tr th:only-of-type {\n",
              "        vertical-align: middle;\n",
              "    }\n",
              "\n",
              "    .dataframe tbody tr th {\n",
              "        vertical-align: top;\n",
              "    }\n",
              "\n",
              "    .dataframe thead th {\n",
              "        text-align: right;\n",
              "    }\n",
              "</style>\n",
              "<table border=\"1\" class=\"dataframe\">\n",
              "  <thead>\n",
              "    <tr style=\"text-align: right;\">\n",
              "      <th></th>\n",
              "      <th>Site CTR</th>\n",
              "    </tr>\n",
              "    <tr>\n",
              "      <th>Rounded Position</th>\n",
              "      <th></th>\n",
              "    </tr>\n",
              "  </thead>\n",
              "  <tbody>\n",
              "    <tr>\n",
              "      <th>1</th>\n",
              "      <td>0.135134</td>\n",
              "    </tr>\n",
              "    <tr>\n",
              "      <th>2</th>\n",
              "      <td>0.064552</td>\n",
              "    </tr>\n",
              "    <tr>\n",
              "      <th>3</th>\n",
              "      <td>0.042728</td>\n",
              "    </tr>\n",
              "    <tr>\n",
              "      <th>4</th>\n",
              "      <td>0.020394</td>\n",
              "    </tr>\n",
              "    <tr>\n",
              "      <th>5</th>\n",
              "      <td>0.016122</td>\n",
              "    </tr>\n",
              "    <tr>\n",
              "      <th>6</th>\n",
              "      <td>0.016205</td>\n",
              "    </tr>\n",
              "    <tr>\n",
              "      <th>7</th>\n",
              "      <td>0.015246</td>\n",
              "    </tr>\n",
              "    <tr>\n",
              "      <th>8</th>\n",
              "      <td>0.005813</td>\n",
              "    </tr>\n",
              "    <tr>\n",
              "      <th>9</th>\n",
              "      <td>0.004070</td>\n",
              "    </tr>\n",
              "    <tr>\n",
              "      <th>10</th>\n",
              "      <td>0.001397</td>\n",
              "    </tr>\n",
              "  </tbody>\n",
              "</table>\n",
              "</div>"
            ],
            "text/plain": [
              "                  Site CTR\n",
              "Rounded Position          \n",
              "1                 0.135134\n",
              "2                 0.064552\n",
              "3                 0.042728\n",
              "4                 0.020394\n",
              "5                 0.016122\n",
              "6                 0.016205\n",
              "7                 0.015246\n",
              "8                 0.005813\n",
              "9                 0.004070\n",
              "10                0.001397"
            ]
          },
          "metadata": {
            "tags": []
          },
          "execution_count": 123
        }
      ]
    },
    {
      "cell_type": "code",
      "metadata": {
        "id": "44BKkCdNG_uj",
        "colab": {
          "base_uri": "https://localhost:8080/",
          "height": 315
        },
        "outputId": "add12bee-aa18-472f-b7e1-e3b0186b848d"
      },
      "source": [
        "ax_brand = brand_ctr_pivot.head(10).plot(kind='bar')\r\n",
        "ax_brand.set_ylabel('Site CTR')\r\n",
        "ax_brand.set_title('Brand Site CTR Curve')"
      ],
      "execution_count": null,
      "outputs": [
        {
          "output_type": "execute_result",
          "data": {
            "text/plain": [
              "Text(0.5, 1.0, 'Brand Site CTR Curve')"
            ]
          },
          "metadata": {
            "tags": []
          },
          "execution_count": 125
        },
        {
          "output_type": "display_data",
          "data": {
            "image/png": "[encoded data removed]",
            "text/plain": [
              "<Figure size 432x288 with 1 Axes>"
            ]
          },
          "metadata": {
            "tags": [],
            "needs_background": "light"
          }
        }
      ]
    },
    {
      "cell_type": "markdown",
      "metadata": {
        "id": "f3NG90LRPmKq"
      },
      "source": [
        "##### Non-Brand"
      ]
    },
    {
      "cell_type": "code",
      "metadata": {
        "id": "j_KNKayhGyCA",
        "colab": {
          "base_uri": "https://localhost:8080/",
          "height": 390
        },
        "outputId": "34b6db20-39da-421f-f36e-cee32ca1c954"
      },
      "source": [
        "non_brand_ctr_pivot = df_query[df_query['Brand vs. Non-Brand']=='Non-Brand'].pivot_table(index=('Rounded Position'), values=['Site CTR'], aggfunc={'Site CTR':\"mean\"}).sort_values(by=['Rounded Position'], ascending=True)\r\n",
        "non_brand_ctr_pivot.head(10)"
      ],
      "execution_count": null,
      "outputs": [
        {
          "output_type": "execute_result",
          "data": {
            "text/html": [
              "<div>\n",
              "<style scoped>\n",
              "    .dataframe tbody tr th:only-of-type {\n",
              "        vertical-align: middle;\n",
              "    }\n",
              "\n",
              "    .dataframe tbody tr th {\n",
              "        vertical-align: top;\n",
              "    }\n",
              "\n",
              "    .dataframe thead th {\n",
              "        text-align: right;\n",
              "    }\n",
              "</style>\n",
              "<table border=\"1\" class=\"dataframe\">\n",
              "  <thead>\n",
              "    <tr style=\"text-align: right;\">\n",
              "      <th></th>\n",
              "      <th>Site CTR</th>\n",
              "    </tr>\n",
              "    <tr>\n",
              "      <th>Rounded Position</th>\n",
              "      <th></th>\n",
              "    </tr>\n",
              "  </thead>\n",
              "  <tbody>\n",
              "    <tr>\n",
              "      <th>1</th>\n",
              "      <td>0.031178</td>\n",
              "    </tr>\n",
              "    <tr>\n",
              "      <th>2</th>\n",
              "      <td>0.026921</td>\n",
              "    </tr>\n",
              "    <tr>\n",
              "      <th>3</th>\n",
              "      <td>0.026712</td>\n",
              "    </tr>\n",
              "    <tr>\n",
              "      <th>4</th>\n",
              "      <td>0.015410</td>\n",
              "    </tr>\n",
              "    <tr>\n",
              "      <th>5</th>\n",
              "      <td>0.017015</td>\n",
              "    </tr>\n",
              "    <tr>\n",
              "      <th>6</th>\n",
              "      <td>0.013558</td>\n",
              "    </tr>\n",
              "    <tr>\n",
              "      <th>7</th>\n",
              "      <td>0.005378</td>\n",
              "    </tr>\n",
              "    <tr>\n",
              "      <th>8</th>\n",
              "      <td>0.004243</td>\n",
              "    </tr>\n",
              "    <tr>\n",
              "      <th>9</th>\n",
              "      <td>0.004102</td>\n",
              "    </tr>\n",
              "    <tr>\n",
              "      <th>10</th>\n",
              "      <td>0.002717</td>\n",
              "    </tr>\n",
              "  </tbody>\n",
              "</table>\n",
              "</div>"
            ],
            "text/plain": [
              "                  Site CTR\n",
              "Rounded Position          \n",
              "1                 0.031178\n",
              "2                 0.026921\n",
              "3                 0.026712\n",
              "4                 0.015410\n",
              "5                 0.017015\n",
              "6                 0.013558\n",
              "7                 0.005378\n",
              "8                 0.004243\n",
              "9                 0.004102\n",
              "10                0.002717"
            ]
          },
          "metadata": {
            "tags": []
          },
          "execution_count": 127
        }
      ]
    },
    {
      "cell_type": "code",
      "metadata": {
        "id": "YPNsskC2HC9J",
        "colab": {
          "base_uri": "https://localhost:8080/",
          "height": 315
        },
        "outputId": "77e3f943-ddcb-45b3-9077-206419c1943b"
      },
      "source": [
        "ax_non_brand = non_brand_ctr_pivot.head(10).plot(kind='bar')\r\n",
        "ax_non_brand.set_ylabel('Site CTR')\r\n",
        "ax_non_brand.set_title('Non-Brand CTR Curve')"
      ],
      "execution_count": null,
      "outputs": [
        {
          "output_type": "execute_result",
          "data": {
            "text/plain": [
              "Text(0.5, 1.0, 'Non-Brand CTR Curve')"
            ]
          },
          "metadata": {
            "tags": []
          },
          "execution_count": 128
        },
        {
          "output_type": "display_data",
          "data": {
            "image/png": "[encoded data removed]",
            "text/plain": [
              "<Figure size 432x288 with 1 Axes>"
            ]
          },
          "metadata": {
            "tags": [],
            "needs_background": "light"
          }
        }
      ]
    },
    {
      "cell_type": "markdown",
      "metadata": {
        "id": "-ao_TFi4WJxp"
      },
      "source": [
        "### Ranking Distribution"
      ]
    },
    {
      "cell_type": "markdown",
      "metadata": {
        "id": "jn1jmty0P7FV"
      },
      "source": [
        "##### Total Site"
      ]
    },
    {
      "cell_type": "code",
      "metadata": {
        "id": "d0A3YbCbWL_M",
        "colab": {
          "base_uri": "https://localhost:8080/",
          "height": 700
        },
        "outputId": "7df30209-4c70-4b80-c8e2-c14454bf8c21"
      },
      "source": [
        "total_ranking_pivot = df_query.pivot_table(index=('Rounded Position'), values=['Query'], aggfunc={'Query':\"count\"}).sort_values(by=['Rounded Position'], ascending=True)\r\n",
        "total_ranking_pivot.head(20)"
      ],
      "execution_count": null,
      "outputs": [
        {
          "output_type": "execute_result",
          "data": {
            "text/html": [
              "<div>\n",
              "<style scoped>\n",
              "    .dataframe tbody tr th:only-of-type {\n",
              "        vertical-align: middle;\n",
              "    }\n",
              "\n",
              "    .dataframe tbody tr th {\n",
              "        vertical-align: top;\n",
              "    }\n",
              "\n",
              "    .dataframe thead th {\n",
              "        text-align: right;\n",
              "    }\n",
              "</style>\n",
              "<table border=\"1\" class=\"dataframe\">\n",
              "  <thead>\n",
              "    <tr style=\"text-align: right;\">\n",
              "      <th></th>\n",
              "      <th>Query</th>\n",
              "    </tr>\n",
              "    <tr>\n",
              "      <th>Rounded Position</th>\n",
              "      <th></th>\n",
              "    </tr>\n",
              "  </thead>\n",
              "  <tbody>\n",
              "    <tr>\n",
              "      <th>1</th>\n",
              "      <td>877</td>\n",
              "    </tr>\n",
              "    <tr>\n",
              "      <th>2</th>\n",
              "      <td>388</td>\n",
              "    </tr>\n",
              "    <tr>\n",
              "      <th>3</th>\n",
              "      <td>338</td>\n",
              "    </tr>\n",
              "    <tr>\n",
              "      <th>4</th>\n",
              "      <td>359</td>\n",
              "    </tr>\n",
              "    <tr>\n",
              "      <th>5</th>\n",
              "      <td>448</td>\n",
              "    </tr>\n",
              "    <tr>\n",
              "      <th>6</th>\n",
              "      <td>635</td>\n",
              "    </tr>\n",
              "    <tr>\n",
              "      <th>7</th>\n",
              "      <td>849</td>\n",
              "    </tr>\n",
              "    <tr>\n",
              "      <th>8</th>\n",
              "      <td>1528</td>\n",
              "    </tr>\n",
              "    <tr>\n",
              "      <th>9</th>\n",
              "      <td>1328</td>\n",
              "    </tr>\n",
              "    <tr>\n",
              "      <th>10</th>\n",
              "      <td>1539</td>\n",
              "    </tr>\n",
              "    <tr>\n",
              "      <th>11</th>\n",
              "      <td>1021</td>\n",
              "    </tr>\n",
              "    <tr>\n",
              "      <th>12</th>\n",
              "      <td>639</td>\n",
              "    </tr>\n",
              "    <tr>\n",
              "      <th>13</th>\n",
              "      <td>288</td>\n",
              "    </tr>\n",
              "    <tr>\n",
              "      <th>14</th>\n",
              "      <td>273</td>\n",
              "    </tr>\n",
              "    <tr>\n",
              "      <th>15</th>\n",
              "      <td>180</td>\n",
              "    </tr>\n",
              "    <tr>\n",
              "      <th>16</th>\n",
              "      <td>242</td>\n",
              "    </tr>\n",
              "    <tr>\n",
              "      <th>17</th>\n",
              "      <td>196</td>\n",
              "    </tr>\n",
              "    <tr>\n",
              "      <th>18</th>\n",
              "      <td>225</td>\n",
              "    </tr>\n",
              "    <tr>\n",
              "      <th>19</th>\n",
              "      <td>191</td>\n",
              "    </tr>\n",
              "    <tr>\n",
              "      <th>20</th>\n",
              "      <td>201</td>\n",
              "    </tr>\n",
              "  </tbody>\n",
              "</table>\n",
              "</div>"
            ],
            "text/plain": [
              "                  Query\n",
              "Rounded Position       \n",
              "1                   877\n",
              "2                   388\n",
              "3                   338\n",
              "4                   359\n",
              "5                   448\n",
              "6                   635\n",
              "7                   849\n",
              "8                  1528\n",
              "9                  1328\n",
              "10                 1539\n",
              "11                 1021\n",
              "12                  639\n",
              "13                  288\n",
              "14                  273\n",
              "15                  180\n",
              "16                  242\n",
              "17                  196\n",
              "18                  225\n",
              "19                  191\n",
              "20                  201"
            ]
          },
          "metadata": {
            "tags": []
          },
          "execution_count": 130
        }
      ]
    },
    {
      "cell_type": "code",
      "metadata": {
        "colab": {
          "base_uri": "https://localhost:8080/",
          "height": 315
        },
        "id": "xj5NMrLwIohm",
        "outputId": "5fe4359c-f839-4d13-e215-a41bb5773c10"
      },
      "source": [
        "ax = total_ranking_pivot.head(20).plot(kind='bar')\r\n",
        "ax.set_ylabel('Count of Queries')\r\n",
        "ax.set_title('Ranking Distribution')"
      ],
      "execution_count": null,
      "outputs": [
        {
          "output_type": "execute_result",
          "data": {
            "text/plain": [
              "Text(0.5, 1.0, 'Ranking Distribution')"
            ]
          },
          "metadata": {
            "tags": []
          },
          "execution_count": 131
        },
        {
          "output_type": "display_data",
          "data": {
            "image/png": "[encoded data removed]",
            "text/plain": [
              "<Figure size 432x288 with 1 Axes>"
            ]
          },
          "metadata": {
            "tags": [],
            "needs_background": "light"
          }
        }
      ]
    },
    {
      "cell_type": "markdown",
      "metadata": {
        "id": "UKwwHp75P-vX"
      },
      "source": [
        "##### Brand"
      ]
    },
    {
      "cell_type": "code",
      "metadata": {
        "colab": {
          "base_uri": "https://localhost:8080/",
          "height": 700
        },
        "id": "8iqsNkZ5FRgK",
        "outputId": "b1bada60-5243-496b-8a95-28f25aafe5c9"
      },
      "source": [
        "brand_ranking_pivot = df_query[df_query['Brand vs. Non-Brand']=='Brand'].pivot_table(index=('Rounded Position'), values=['Query'], aggfunc={'Query':\"count\"}).sort_values(by=['Rounded Position'], ascending=True)\r\n",
        "brand_ranking_pivot.head(20)"
      ],
      "execution_count": null,
      "outputs": [
        {
          "output_type": "execute_result",
          "data": {
            "text/html": [
              "<div>\n",
              "<style scoped>\n",
              "    .dataframe tbody tr th:only-of-type {\n",
              "        vertical-align: middle;\n",
              "    }\n",
              "\n",
              "    .dataframe tbody tr th {\n",
              "        vertical-align: top;\n",
              "    }\n",
              "\n",
              "    .dataframe thead th {\n",
              "        text-align: right;\n",
              "    }\n",
              "</style>\n",
              "<table border=\"1\" class=\"dataframe\">\n",
              "  <thead>\n",
              "    <tr style=\"text-align: right;\">\n",
              "      <th></th>\n",
              "      <th>Query</th>\n",
              "    </tr>\n",
              "    <tr>\n",
              "      <th>Rounded Position</th>\n",
              "      <th></th>\n",
              "    </tr>\n",
              "  </thead>\n",
              "  <tbody>\n",
              "    <tr>\n",
              "      <th>1</th>\n",
              "      <td>402</td>\n",
              "    </tr>\n",
              "    <tr>\n",
              "      <th>2</th>\n",
              "      <td>145</td>\n",
              "    </tr>\n",
              "    <tr>\n",
              "      <th>3</th>\n",
              "      <td>106</td>\n",
              "    </tr>\n",
              "    <tr>\n",
              "      <th>4</th>\n",
              "      <td>122</td>\n",
              "    </tr>\n",
              "    <tr>\n",
              "      <th>5</th>\n",
              "      <td>137</td>\n",
              "    </tr>\n",
              "    <tr>\n",
              "      <th>6</th>\n",
              "      <td>242</td>\n",
              "    </tr>\n",
              "    <tr>\n",
              "      <th>7</th>\n",
              "      <td>300</td>\n",
              "    </tr>\n",
              "    <tr>\n",
              "      <th>8</th>\n",
              "      <td>445</td>\n",
              "    </tr>\n",
              "    <tr>\n",
              "      <th>9</th>\n",
              "      <td>348</td>\n",
              "    </tr>\n",
              "    <tr>\n",
              "      <th>10</th>\n",
              "      <td>399</td>\n",
              "    </tr>\n",
              "    <tr>\n",
              "      <th>11</th>\n",
              "      <td>308</td>\n",
              "    </tr>\n",
              "    <tr>\n",
              "      <th>12</th>\n",
              "      <td>158</td>\n",
              "    </tr>\n",
              "    <tr>\n",
              "      <th>13</th>\n",
              "      <td>73</td>\n",
              "    </tr>\n",
              "    <tr>\n",
              "      <th>14</th>\n",
              "      <td>70</td>\n",
              "    </tr>\n",
              "    <tr>\n",
              "      <th>15</th>\n",
              "      <td>40</td>\n",
              "    </tr>\n",
              "    <tr>\n",
              "      <th>16</th>\n",
              "      <td>63</td>\n",
              "    </tr>\n",
              "    <tr>\n",
              "      <th>17</th>\n",
              "      <td>59</td>\n",
              "    </tr>\n",
              "    <tr>\n",
              "      <th>18</th>\n",
              "      <td>63</td>\n",
              "    </tr>\n",
              "    <tr>\n",
              "      <th>19</th>\n",
              "      <td>40</td>\n",
              "    </tr>\n",
              "    <tr>\n",
              "      <th>20</th>\n",
              "      <td>48</td>\n",
              "    </tr>\n",
              "  </tbody>\n",
              "</table>\n",
              "</div>"
            ],
            "text/plain": [
              "                  Query\n",
              "Rounded Position       \n",
              "1                   402\n",
              "2                   145\n",
              "3                   106\n",
              "4                   122\n",
              "5                   137\n",
              "6                   242\n",
              "7                   300\n",
              "8                   445\n",
              "9                   348\n",
              "10                  399\n",
              "11                  308\n",
              "12                  158\n",
              "13                   73\n",
              "14                   70\n",
              "15                   40\n",
              "16                   63\n",
              "17                   59\n",
              "18                   63\n",
              "19                   40\n",
              "20                   48"
            ]
          },
          "metadata": {
            "tags": []
          },
          "execution_count": 132
        }
      ]
    },
    {
      "cell_type": "code",
      "metadata": {
        "colab": {
          "base_uri": "https://localhost:8080/",
          "height": 315
        },
        "id": "bR7VlQbXFwU4",
        "outputId": "0d8389b9-de41-40ac-ecc9-edef0ba7d514"
      },
      "source": [
        "ax = brand_ranking_pivot.head(20).plot(kind='bar')\r\n",
        "ax.set_ylabel('Count of Queries')\r\n",
        "ax.set_title('Brand Ranking Distribution')"
      ],
      "execution_count": null,
      "outputs": [
        {
          "output_type": "execute_result",
          "data": {
            "text/plain": [
              "Text(0.5, 1.0, 'Brand Ranking Distribution')"
            ]
          },
          "metadata": {
            "tags": []
          },
          "execution_count": 134
        },
        {
          "output_type": "display_data",
          "data": {
            "image/png": "[encoded data removed]",
            "text/plain": [
              "<Figure size 432x288 with 1 Axes>"
            ]
          },
          "metadata": {
            "tags": [],
            "needs_background": "light"
          }
        }
      ]
    },
    {
      "cell_type": "markdown",
      "metadata": {
        "id": "4lQ_WNY-QBiD"
      },
      "source": [
        "##### Non-Brand"
      ]
    },
    {
      "cell_type": "code",
      "metadata": {
        "colab": {
          "base_uri": "https://localhost:8080/",
          "height": 700
        },
        "id": "Ztr466GoF90n",
        "outputId": "10473b08-ed43-40cd-cfc0-197d82b1f113"
      },
      "source": [
        "non_brand_ranking_pivot = df_query[df_query['Brand vs. Non-Brand']=='Non-Brand'].pivot_table(index=('Rounded Position'), values=['Query'], aggfunc={'Query':\"count\"}).sort_values(by=['Rounded Position'], ascending=True)\r\n",
        "non_brand_ranking_pivot.head(20)"
      ],
      "execution_count": null,
      "outputs": [
        {
          "output_type": "execute_result",
          "data": {
            "text/html": [
              "<div>\n",
              "<style scoped>\n",
              "    .dataframe tbody tr th:only-of-type {\n",
              "        vertical-align: middle;\n",
              "    }\n",
              "\n",
              "    .dataframe tbody tr th {\n",
              "        vertical-align: top;\n",
              "    }\n",
              "\n",
              "    .dataframe thead th {\n",
              "        text-align: right;\n",
              "    }\n",
              "</style>\n",
              "<table border=\"1\" class=\"dataframe\">\n",
              "  <thead>\n",
              "    <tr style=\"text-align: right;\">\n",
              "      <th></th>\n",
              "      <th>Query</th>\n",
              "    </tr>\n",
              "    <tr>\n",
              "      <th>Rounded Position</th>\n",
              "      <th></th>\n",
              "    </tr>\n",
              "  </thead>\n",
              "  <tbody>\n",
              "    <tr>\n",
              "      <th>1</th>\n",
              "      <td>475</td>\n",
              "    </tr>\n",
              "    <tr>\n",
              "      <th>2</th>\n",
              "      <td>243</td>\n",
              "    </tr>\n",
              "    <tr>\n",
              "      <th>3</th>\n",
              "      <td>232</td>\n",
              "    </tr>\n",
              "    <tr>\n",
              "      <th>4</th>\n",
              "      <td>237</td>\n",
              "    </tr>\n",
              "    <tr>\n",
              "      <th>5</th>\n",
              "      <td>311</td>\n",
              "    </tr>\n",
              "    <tr>\n",
              "      <th>6</th>\n",
              "      <td>393</td>\n",
              "    </tr>\n",
              "    <tr>\n",
              "      <th>7</th>\n",
              "      <td>549</td>\n",
              "    </tr>\n",
              "    <tr>\n",
              "      <th>8</th>\n",
              "      <td>1083</td>\n",
              "    </tr>\n",
              "    <tr>\n",
              "      <th>9</th>\n",
              "      <td>980</td>\n",
              "    </tr>\n",
              "    <tr>\n",
              "      <th>10</th>\n",
              "      <td>1140</td>\n",
              "    </tr>\n",
              "    <tr>\n",
              "      <th>11</th>\n",
              "      <td>713</td>\n",
              "    </tr>\n",
              "    <tr>\n",
              "      <th>12</th>\n",
              "      <td>481</td>\n",
              "    </tr>\n",
              "    <tr>\n",
              "      <th>13</th>\n",
              "      <td>215</td>\n",
              "    </tr>\n",
              "    <tr>\n",
              "      <th>14</th>\n",
              "      <td>203</td>\n",
              "    </tr>\n",
              "    <tr>\n",
              "      <th>15</th>\n",
              "      <td>140</td>\n",
              "    </tr>\n",
              "    <tr>\n",
              "      <th>16</th>\n",
              "      <td>179</td>\n",
              "    </tr>\n",
              "    <tr>\n",
              "      <th>17</th>\n",
              "      <td>137</td>\n",
              "    </tr>\n",
              "    <tr>\n",
              "      <th>18</th>\n",
              "      <td>162</td>\n",
              "    </tr>\n",
              "    <tr>\n",
              "      <th>19</th>\n",
              "      <td>151</td>\n",
              "    </tr>\n",
              "    <tr>\n",
              "      <th>20</th>\n",
              "      <td>153</td>\n",
              "    </tr>\n",
              "  </tbody>\n",
              "</table>\n",
              "</div>"
            ],
            "text/plain": [
              "                  Query\n",
              "Rounded Position       \n",
              "1                   475\n",
              "2                   243\n",
              "3                   232\n",
              "4                   237\n",
              "5                   311\n",
              "6                   393\n",
              "7                   549\n",
              "8                  1083\n",
              "9                   980\n",
              "10                 1140\n",
              "11                  713\n",
              "12                  481\n",
              "13                  215\n",
              "14                  203\n",
              "15                  140\n",
              "16                  179\n",
              "17                  137\n",
              "18                  162\n",
              "19                  151\n",
              "20                  153"
            ]
          },
          "metadata": {
            "tags": []
          },
          "execution_count": 135
        }
      ]
    },
    {
      "cell_type": "code",
      "metadata": {
        "colab": {
          "base_uri": "https://localhost:8080/",
          "height": 315
        },
        "id": "o9NS12jxGEoJ",
        "outputId": "1c6bec84-c0eb-4494-85db-c64198ca25c1"
      },
      "source": [
        "ax = non_brand_ranking_pivot.head(20).plot(kind='bar')\r\n",
        "ax.set_ylabel('Count of Queries')\r\n",
        "ax.set_title('Non-Brand Ranking Distribution')"
      ],
      "execution_count": null,
      "outputs": [
        {
          "output_type": "execute_result",
          "data": {
            "text/plain": [
              "Text(0.5, 1.0, 'Non-Brand Ranking Distribution')"
            ]
          },
          "metadata": {
            "tags": []
          },
          "execution_count": 136
        },
        {
          "output_type": "display_data",
          "data": {
            "image/png": "[encoded data removed]",
            "text/plain": [
              "<Figure size 432x288 with 1 Axes>"
            ]
          },
          "metadata": {
            "tags": [],
            "needs_background": "light"
          }
        }
      ]
    },
    {
      "cell_type": "markdown",
      "metadata": {
        "id": "_xk0S3EEOtxG"
      },
      "source": [
        "# GSC - URL Impressions"
      ]
    },
    {
      "cell_type": "markdown",
      "metadata": {
        "id": "DdIZ0-ToQV8l"
      },
      "source": [
        "## 1) Import Libraries and Read in CSV\r\n",
        "Import the necessary libraries and read in the data that will be used for the analysis."
      ]
    },
    {
      "cell_type": "code",
      "metadata": {
        "id": "fSzNmgGDwF77",
        "colab": {
          "base_uri": "https://localhost:8080/",
          "height": 204
        },
        "outputId": "47fce8dc-35e7-43cf-d7ed-10f84348541e"
      },
      "source": [
        "# import pandas as pd\r\n",
        "# import numpy as np\r\n",
        "# import matplotlib.pyplot as plt\r\n",
        "\r\n",
        "df_lp_query = pd.read_csv(\"search-console-landing-page-query-report.csv\")\r\n",
        "df_lp_query.head()"
      ],
      "execution_count": 5,
      "outputs": [
        {
          "output_type": "execute_result",
          "data": {
            "text/html": [
              "<div>\n",
              "<style scoped>\n",
              "    .dataframe tbody tr th:only-of-type {\n",
              "        vertical-align: middle;\n",
              "    }\n",
              "\n",
              "    .dataframe tbody tr th {\n",
              "        vertical-align: top;\n",
              "    }\n",
              "\n",
              "    .dataframe thead th {\n",
              "        text-align: right;\n",
              "    }\n",
              "</style>\n",
              "<table border=\"1\" class=\"dataframe\">\n",
              "  <thead>\n",
              "    <tr style=\"text-align: right;\">\n",
              "      <th></th>\n",
              "      <th>Landing Page</th>\n",
              "      <th>Query</th>\n",
              "      <th>Impressions</th>\n",
              "      <th>Δ</th>\n",
              "      <th>Url Clicks</th>\n",
              "      <th>Δ.1</th>\n",
              "      <th>URL CTR</th>\n",
              "      <th>Δ.2</th>\n",
              "    </tr>\n",
              "  </thead>\n",
              "  <tbody>\n",
              "    <tr>\n",
              "      <th>0</th>\n",
              "      <td>https://shop.googlemerchandisestore.com/Google...</td>\n",
              "      <td>dino game</td>\n",
              "      <td>267205</td>\n",
              "      <td>266575.0</td>\n",
              "      <td>6343</td>\n",
              "      <td>6340.0</td>\n",
              "      <td>0.023738</td>\n",
              "      <td>0.018976</td>\n",
              "    </tr>\n",
              "    <tr>\n",
              "      <th>1</th>\n",
              "      <td>https://shop.googlemerchandisestore.com/Google...</td>\n",
              "      <td>dinosaur game</td>\n",
              "      <td>690783</td>\n",
              "      <td>690754.0</td>\n",
              "      <td>3658</td>\n",
              "      <td>3658.0</td>\n",
              "      <td>0.005295</td>\n",
              "      <td>0.005295</td>\n",
              "    </tr>\n",
              "    <tr>\n",
              "      <th>2</th>\n",
              "      <td>https://shop.googlemerchandisestore.com/Google...</td>\n",
              "      <td>youtube merchandise</td>\n",
              "      <td>4354</td>\n",
              "      <td>-3808.0</td>\n",
              "      <td>843</td>\n",
              "      <td>-907.0</td>\n",
              "      <td>0.193615</td>\n",
              "      <td>-0.020793</td>\n",
              "    </tr>\n",
              "    <tr>\n",
              "      <th>3</th>\n",
              "      <td>https://shop.googlemerchandisestore.com/Google...</td>\n",
              "      <td>chrome dino game</td>\n",
              "      <td>83122</td>\n",
              "      <td>83121.0</td>\n",
              "      <td>681</td>\n",
              "      <td>681.0</td>\n",
              "      <td>0.008193</td>\n",
              "      <td>0.008193</td>\n",
              "    </tr>\n",
              "    <tr>\n",
              "      <th>4</th>\n",
              "      <td>https://shop.googlemerchandisestore.com/Google...</td>\n",
              "      <td>google dinosaur game</td>\n",
              "      <td>97448</td>\n",
              "      <td>97405.0</td>\n",
              "      <td>676</td>\n",
              "      <td>676.0</td>\n",
              "      <td>0.006937</td>\n",
              "      <td>0.006937</td>\n",
              "    </tr>\n",
              "  </tbody>\n",
              "</table>\n",
              "</div>"
            ],
            "text/plain": [
              "                                        Landing Page  ...       Δ.2\n",
              "0  https://shop.googlemerchandisestore.com/Google...  ...  0.018976\n",
              "1  https://shop.googlemerchandisestore.com/Google...  ...  0.005295\n",
              "2  https://shop.googlemerchandisestore.com/Google...  ... -0.020793\n",
              "3  https://shop.googlemerchandisestore.com/Google...  ...  0.008193\n",
              "4  https://shop.googlemerchandisestore.com/Google...  ...  0.006937\n",
              "\n",
              "[5 rows x 8 columns]"
            ]
          },
          "metadata": {
            "tags": []
          },
          "execution_count": 5
        }
      ]
    },
    {
      "cell_type": "code",
      "metadata": {
        "colab": {
          "base_uri": "https://localhost:8080/"
        },
        "id": "3tPHkImeQRp7",
        "outputId": "05659805-1c36-434f-8a45-89d564f6609e"
      },
      "source": [
        "df_lp_query.shape"
      ],
      "execution_count": 6,
      "outputs": [
        {
          "output_type": "execute_result",
          "data": {
            "text/plain": [
              "(44169, 8)"
            ]
          },
          "metadata": {
            "tags": []
          },
          "execution_count": 6
        }
      ]
    },
    {
      "cell_type": "markdown",
      "metadata": {
        "id": "47KV8UB5Qc-p"
      },
      "source": [
        "## 2) Clean the Data\r\n",
        "Clean the data up to make it easier for an analysis. This includes removing null values, renaming columns, and having the right data types. "
      ]
    },
    {
      "cell_type": "code",
      "metadata": {
        "id": "xLkM8QgHR186"
      },
      "source": [
        "# Rename columns to your preference\r\n",
        "df_lp_query = df_lp_query.rename(columns={\"Url Clicks\":\"URL Clicks\",\"Δ\": \"Impressions Difference\", \"Δ.1\": \"URL Clicks Difference\", \"Δ.2\":\"URL CTR Difference\", \"Δ.3\":\"Average Position Difference\"})\r\n",
        "\r\n",
        "# Replace all null values in the data set with 0\r\n",
        "df_lp_query = df_lp_query.fillna(0)\r\n",
        "df_lp_query.isnull().sum()\r\n",
        "\r\n",
        "# Cast columns as int64 data type\r\n",
        "df_lp_query['Impressions Difference'] = df_lp_query['Impressions Difference'].astype('int64')\r\n",
        "df_lp_query['URL Clicks Difference'] = df_lp_query['URL Clicks Difference'].astype('int64')"
      ],
      "execution_count": 7,
      "outputs": []
    },
    {
      "cell_type": "markdown",
      "metadata": {
        "id": "63W5aGf_QqiK"
      },
      "source": [
        "## 3) Derive New Columns and Dataframes"
      ]
    },
    {
      "cell_type": "code",
      "metadata": {
        "colab": {
          "base_uri": "https://localhost:8080/",
          "height": 145
        },
        "id": "1boewhN2S5EM",
        "outputId": "2b5fc791-78ee-4018-fbe9-372996919667"
      },
      "source": [
        "# Added a style to the Landing Page column so that we can see the full URL\r\n",
        "df_lp_query.head().style.set_properties(subset=['Landing Page'], **{'width': '100px'})"
      ],
      "execution_count": null,
      "outputs": [
        {
          "output_type": "execute_result",
          "data": {
            "text/html": [
              "<style  type=\"text/css\" >\n",
              "#T_2fc83d00_5489_11eb_b45b_0242ac1c0002row0_col0,#T_2fc83d00_5489_11eb_b45b_0242ac1c0002row1_col0,#T_2fc83d00_5489_11eb_b45b_0242ac1c0002row2_col0,#T_2fc83d00_5489_11eb_b45b_0242ac1c0002row3_col0,#T_2fc83d00_5489_11eb_b45b_0242ac1c0002row4_col0{\n",
              "            width:  100px;\n",
              "        }</style><table id=\"T_2fc83d00_5489_11eb_b45b_0242ac1c0002\" ><thead>    <tr>        <th class=\"blank level0\" ></th>        <th class=\"col_heading level0 col0\" >Landing Page</th>        <th class=\"col_heading level0 col1\" >Query</th>        <th class=\"col_heading level0 col2\" >Impressions</th>        <th class=\"col_heading level0 col3\" >Impressions Difference</th>        <th class=\"col_heading level0 col4\" >URL Clicks</th>        <th class=\"col_heading level0 col5\" >URL Clicks Difference</th>        <th class=\"col_heading level0 col6\" >URL CTR</th>        <th class=\"col_heading level0 col7\" >URL CTR Difference</th>    </tr></thead><tbody>\n",
              "                <tr>\n",
              "                        <th id=\"T_2fc83d00_5489_11eb_b45b_0242ac1c0002level0_row0\" class=\"row_heading level0 row0\" >0</th>\n",
              "                        <td id=\"T_2fc83d00_5489_11eb_b45b_0242ac1c0002row0_col0\" class=\"data row0 col0\" >https://shop.googlemerchandisestore.com/Google+Redesign/Apparel/Google+Dino+Game+Tee</td>\n",
              "                        <td id=\"T_2fc83d00_5489_11eb_b45b_0242ac1c0002row0_col1\" class=\"data row0 col1\" >dino game</td>\n",
              "                        <td id=\"T_2fc83d00_5489_11eb_b45b_0242ac1c0002row0_col2\" class=\"data row0 col2\" >267205</td>\n",
              "                        <td id=\"T_2fc83d00_5489_11eb_b45b_0242ac1c0002row0_col3\" class=\"data row0 col3\" >266575</td>\n",
              "                        <td id=\"T_2fc83d00_5489_11eb_b45b_0242ac1c0002row0_col4\" class=\"data row0 col4\" >6343</td>\n",
              "                        <td id=\"T_2fc83d00_5489_11eb_b45b_0242ac1c0002row0_col5\" class=\"data row0 col5\" >6340</td>\n",
              "                        <td id=\"T_2fc83d00_5489_11eb_b45b_0242ac1c0002row0_col6\" class=\"data row0 col6\" >0.023738</td>\n",
              "                        <td id=\"T_2fc83d00_5489_11eb_b45b_0242ac1c0002row0_col7\" class=\"data row0 col7\" >0.018976</td>\n",
              "            </tr>\n",
              "            <tr>\n",
              "                        <th id=\"T_2fc83d00_5489_11eb_b45b_0242ac1c0002level0_row1\" class=\"row_heading level0 row1\" >1</th>\n",
              "                        <td id=\"T_2fc83d00_5489_11eb_b45b_0242ac1c0002row1_col0\" class=\"data row1 col0\" >https://shop.googlemerchandisestore.com/Google+Redesign/Apparel/Google+Dino+Game+Tee</td>\n",
              "                        <td id=\"T_2fc83d00_5489_11eb_b45b_0242ac1c0002row1_col1\" class=\"data row1 col1\" >dinosaur game</td>\n",
              "                        <td id=\"T_2fc83d00_5489_11eb_b45b_0242ac1c0002row1_col2\" class=\"data row1 col2\" >690783</td>\n",
              "                        <td id=\"T_2fc83d00_5489_11eb_b45b_0242ac1c0002row1_col3\" class=\"data row1 col3\" >690754</td>\n",
              "                        <td id=\"T_2fc83d00_5489_11eb_b45b_0242ac1c0002row1_col4\" class=\"data row1 col4\" >3658</td>\n",
              "                        <td id=\"T_2fc83d00_5489_11eb_b45b_0242ac1c0002row1_col5\" class=\"data row1 col5\" >3658</td>\n",
              "                        <td id=\"T_2fc83d00_5489_11eb_b45b_0242ac1c0002row1_col6\" class=\"data row1 col6\" >0.005295</td>\n",
              "                        <td id=\"T_2fc83d00_5489_11eb_b45b_0242ac1c0002row1_col7\" class=\"data row1 col7\" >0.005295</td>\n",
              "            </tr>\n",
              "            <tr>\n",
              "                        <th id=\"T_2fc83d00_5489_11eb_b45b_0242ac1c0002level0_row2\" class=\"row_heading level0 row2\" >2</th>\n",
              "                        <td id=\"T_2fc83d00_5489_11eb_b45b_0242ac1c0002row2_col0\" class=\"data row2 col0\" >https://shop.googlemerchandisestore.com/Google+Redesign/Shop+by+Brand/YouTube</td>\n",
              "                        <td id=\"T_2fc83d00_5489_11eb_b45b_0242ac1c0002row2_col1\" class=\"data row2 col1\" >youtube merchandise</td>\n",
              "                        <td id=\"T_2fc83d00_5489_11eb_b45b_0242ac1c0002row2_col2\" class=\"data row2 col2\" >4354</td>\n",
              "                        <td id=\"T_2fc83d00_5489_11eb_b45b_0242ac1c0002row2_col3\" class=\"data row2 col3\" >-3808</td>\n",
              "                        <td id=\"T_2fc83d00_5489_11eb_b45b_0242ac1c0002row2_col4\" class=\"data row2 col4\" >843</td>\n",
              "                        <td id=\"T_2fc83d00_5489_11eb_b45b_0242ac1c0002row2_col5\" class=\"data row2 col5\" >-907</td>\n",
              "                        <td id=\"T_2fc83d00_5489_11eb_b45b_0242ac1c0002row2_col6\" class=\"data row2 col6\" >0.193615</td>\n",
              "                        <td id=\"T_2fc83d00_5489_11eb_b45b_0242ac1c0002row2_col7\" class=\"data row2 col7\" >-0.020793</td>\n",
              "            </tr>\n",
              "            <tr>\n",
              "                        <th id=\"T_2fc83d00_5489_11eb_b45b_0242ac1c0002level0_row3\" class=\"row_heading level0 row3\" >3</th>\n",
              "                        <td id=\"T_2fc83d00_5489_11eb_b45b_0242ac1c0002row3_col0\" class=\"data row3 col0\" >https://shop.googlemerchandisestore.com/Google+Redesign/Apparel/Google+Dino+Game+Tee</td>\n",
              "                        <td id=\"T_2fc83d00_5489_11eb_b45b_0242ac1c0002row3_col1\" class=\"data row3 col1\" >chrome dino game</td>\n",
              "                        <td id=\"T_2fc83d00_5489_11eb_b45b_0242ac1c0002row3_col2\" class=\"data row3 col2\" >83122</td>\n",
              "                        <td id=\"T_2fc83d00_5489_11eb_b45b_0242ac1c0002row3_col3\" class=\"data row3 col3\" >83121</td>\n",
              "                        <td id=\"T_2fc83d00_5489_11eb_b45b_0242ac1c0002row3_col4\" class=\"data row3 col4\" >681</td>\n",
              "                        <td id=\"T_2fc83d00_5489_11eb_b45b_0242ac1c0002row3_col5\" class=\"data row3 col5\" >681</td>\n",
              "                        <td id=\"T_2fc83d00_5489_11eb_b45b_0242ac1c0002row3_col6\" class=\"data row3 col6\" >0.008193</td>\n",
              "                        <td id=\"T_2fc83d00_5489_11eb_b45b_0242ac1c0002row3_col7\" class=\"data row3 col7\" >0.008193</td>\n",
              "            </tr>\n",
              "            <tr>\n",
              "                        <th id=\"T_2fc83d00_5489_11eb_b45b_0242ac1c0002level0_row4\" class=\"row_heading level0 row4\" >4</th>\n",
              "                        <td id=\"T_2fc83d00_5489_11eb_b45b_0242ac1c0002row4_col0\" class=\"data row4 col0\" >https://shop.googlemerchandisestore.com/Google+Redesign/Apparel/Google+Dino+Game+Tee</td>\n",
              "                        <td id=\"T_2fc83d00_5489_11eb_b45b_0242ac1c0002row4_col1\" class=\"data row4 col1\" >google dinosaur game</td>\n",
              "                        <td id=\"T_2fc83d00_5489_11eb_b45b_0242ac1c0002row4_col2\" class=\"data row4 col2\" >97448</td>\n",
              "                        <td id=\"T_2fc83d00_5489_11eb_b45b_0242ac1c0002row4_col3\" class=\"data row4 col3\" >97405</td>\n",
              "                        <td id=\"T_2fc83d00_5489_11eb_b45b_0242ac1c0002row4_col4\" class=\"data row4 col4\" >676</td>\n",
              "                        <td id=\"T_2fc83d00_5489_11eb_b45b_0242ac1c0002row4_col5\" class=\"data row4 col5\" >676</td>\n",
              "                        <td id=\"T_2fc83d00_5489_11eb_b45b_0242ac1c0002row4_col6\" class=\"data row4 col6\" >0.006937</td>\n",
              "                        <td id=\"T_2fc83d00_5489_11eb_b45b_0242ac1c0002row4_col7\" class=\"data row4 col7\" >0.006937</td>\n",
              "            </tr>\n",
              "    </tbody></table>"
            ],
            "text/plain": [
              "<pandas.io.formats.style.Styler at 0x7fe517677cc0>"
            ]
          },
          "metadata": {
            "tags": []
          },
          "execution_count": 26
        }
      ]
    },
    {
      "cell_type": "code",
      "metadata": {
        "id": "X1fHVhKyGJPY",
        "colab": {
          "base_uri": "https://localhost:8080/",
          "height": 196
        },
        "outputId": "87eb35a0-355d-4f6e-be20-adc33c152cba"
      },
      "source": [
        "# Extracts string after the 4th forward slash and puts the value into a Category column. \n",
        "df_lp_query['Category']=df_lp_query['Landing Page'].str.extract(r'(?:.*?\\/){4}([^\\/?#]+)')\n",
        "\n",
        "# Replaces all + and - in the extracted string with a space and makes it title case.\n",
        "df_lp_query['Category']=df_lp_query['Category'].str.replace('+', ' ')\n",
        "df_lp_query['Category']=df_lp_query['Category'].str.replace('-', ' ').str.title()\n",
        "df_lp_query.head().style.set_properties(subset=['Landing Page'], **{'width': '100px'})"
      ],
      "execution_count": null,
      "outputs": [
        {
          "output_type": "execute_result",
          "data": {
            "text/html": [
              "<style  type=\"text/css\" >\n",
              "#T_4f43e578_555e_11eb_ad9a_0242ac1c0002row0_col0,#T_4f43e578_555e_11eb_ad9a_0242ac1c0002row1_col0,#T_4f43e578_555e_11eb_ad9a_0242ac1c0002row2_col0,#T_4f43e578_555e_11eb_ad9a_0242ac1c0002row3_col0,#T_4f43e578_555e_11eb_ad9a_0242ac1c0002row4_col0{\n",
              "            width:  100px;\n",
              "        }</style><table id=\"T_4f43e578_555e_11eb_ad9a_0242ac1c0002\" ><thead>    <tr>        <th class=\"blank level0\" ></th>        <th class=\"col_heading level0 col0\" >Landing Page</th>        <th class=\"col_heading level0 col1\" >Query</th>        <th class=\"col_heading level0 col2\" >Impressions</th>        <th class=\"col_heading level0 col3\" >Impressions Difference</th>        <th class=\"col_heading level0 col4\" >URL Clicks</th>        <th class=\"col_heading level0 col5\" >URL Clicks Difference</th>        <th class=\"col_heading level0 col6\" >URL CTR</th>        <th class=\"col_heading level0 col7\" >URL CTR Difference</th>        <th class=\"col_heading level0 col8\" >Category</th>    </tr></thead><tbody>\n",
              "                <tr>\n",
              "                        <th id=\"T_4f43e578_555e_11eb_ad9a_0242ac1c0002level0_row0\" class=\"row_heading level0 row0\" >0</th>\n",
              "                        <td id=\"T_4f43e578_555e_11eb_ad9a_0242ac1c0002row0_col0\" class=\"data row0 col0\" >https://shop.googlemerchandisestore.com/Google+Redesign/Apparel/Google+Dino+Game+Tee</td>\n",
              "                        <td id=\"T_4f43e578_555e_11eb_ad9a_0242ac1c0002row0_col1\" class=\"data row0 col1\" >dino game</td>\n",
              "                        <td id=\"T_4f43e578_555e_11eb_ad9a_0242ac1c0002row0_col2\" class=\"data row0 col2\" >267205</td>\n",
              "                        <td id=\"T_4f43e578_555e_11eb_ad9a_0242ac1c0002row0_col3\" class=\"data row0 col3\" >266575</td>\n",
              "                        <td id=\"T_4f43e578_555e_11eb_ad9a_0242ac1c0002row0_col4\" class=\"data row0 col4\" >6343</td>\n",
              "                        <td id=\"T_4f43e578_555e_11eb_ad9a_0242ac1c0002row0_col5\" class=\"data row0 col5\" >6340</td>\n",
              "                        <td id=\"T_4f43e578_555e_11eb_ad9a_0242ac1c0002row0_col6\" class=\"data row0 col6\" >0.023738</td>\n",
              "                        <td id=\"T_4f43e578_555e_11eb_ad9a_0242ac1c0002row0_col7\" class=\"data row0 col7\" >0.018976</td>\n",
              "                        <td id=\"T_4f43e578_555e_11eb_ad9a_0242ac1c0002row0_col8\" class=\"data row0 col8\" >Apparel</td>\n",
              "            </tr>\n",
              "            <tr>\n",
              "                        <th id=\"T_4f43e578_555e_11eb_ad9a_0242ac1c0002level0_row1\" class=\"row_heading level0 row1\" >1</th>\n",
              "                        <td id=\"T_4f43e578_555e_11eb_ad9a_0242ac1c0002row1_col0\" class=\"data row1 col0\" >https://shop.googlemerchandisestore.com/Google+Redesign/Apparel/Google+Dino+Game+Tee</td>\n",
              "                        <td id=\"T_4f43e578_555e_11eb_ad9a_0242ac1c0002row1_col1\" class=\"data row1 col1\" >dinosaur game</td>\n",
              "                        <td id=\"T_4f43e578_555e_11eb_ad9a_0242ac1c0002row1_col2\" class=\"data row1 col2\" >690783</td>\n",
              "                        <td id=\"T_4f43e578_555e_11eb_ad9a_0242ac1c0002row1_col3\" class=\"data row1 col3\" >690754</td>\n",
              "                        <td id=\"T_4f43e578_555e_11eb_ad9a_0242ac1c0002row1_col4\" class=\"data row1 col4\" >3658</td>\n",
              "                        <td id=\"T_4f43e578_555e_11eb_ad9a_0242ac1c0002row1_col5\" class=\"data row1 col5\" >3658</td>\n",
              "                        <td id=\"T_4f43e578_555e_11eb_ad9a_0242ac1c0002row1_col6\" class=\"data row1 col6\" >0.005295</td>\n",
              "                        <td id=\"T_4f43e578_555e_11eb_ad9a_0242ac1c0002row1_col7\" class=\"data row1 col7\" >0.005295</td>\n",
              "                        <td id=\"T_4f43e578_555e_11eb_ad9a_0242ac1c0002row1_col8\" class=\"data row1 col8\" >Apparel</td>\n",
              "            </tr>\n",
              "            <tr>\n",
              "                        <th id=\"T_4f43e578_555e_11eb_ad9a_0242ac1c0002level0_row2\" class=\"row_heading level0 row2\" >2</th>\n",
              "                        <td id=\"T_4f43e578_555e_11eb_ad9a_0242ac1c0002row2_col0\" class=\"data row2 col0\" >https://shop.googlemerchandisestore.com/Google+Redesign/Shop+by+Brand/YouTube</td>\n",
              "                        <td id=\"T_4f43e578_555e_11eb_ad9a_0242ac1c0002row2_col1\" class=\"data row2 col1\" >youtube merchandise</td>\n",
              "                        <td id=\"T_4f43e578_555e_11eb_ad9a_0242ac1c0002row2_col2\" class=\"data row2 col2\" >4354</td>\n",
              "                        <td id=\"T_4f43e578_555e_11eb_ad9a_0242ac1c0002row2_col3\" class=\"data row2 col3\" >-3808</td>\n",
              "                        <td id=\"T_4f43e578_555e_11eb_ad9a_0242ac1c0002row2_col4\" class=\"data row2 col4\" >843</td>\n",
              "                        <td id=\"T_4f43e578_555e_11eb_ad9a_0242ac1c0002row2_col5\" class=\"data row2 col5\" >-907</td>\n",
              "                        <td id=\"T_4f43e578_555e_11eb_ad9a_0242ac1c0002row2_col6\" class=\"data row2 col6\" >0.193615</td>\n",
              "                        <td id=\"T_4f43e578_555e_11eb_ad9a_0242ac1c0002row2_col7\" class=\"data row2 col7\" >-0.020793</td>\n",
              "                        <td id=\"T_4f43e578_555e_11eb_ad9a_0242ac1c0002row2_col8\" class=\"data row2 col8\" >Shop By Brand</td>\n",
              "            </tr>\n",
              "            <tr>\n",
              "                        <th id=\"T_4f43e578_555e_11eb_ad9a_0242ac1c0002level0_row3\" class=\"row_heading level0 row3\" >3</th>\n",
              "                        <td id=\"T_4f43e578_555e_11eb_ad9a_0242ac1c0002row3_col0\" class=\"data row3 col0\" >https://shop.googlemerchandisestore.com/Google+Redesign/Apparel/Google+Dino+Game+Tee</td>\n",
              "                        <td id=\"T_4f43e578_555e_11eb_ad9a_0242ac1c0002row3_col1\" class=\"data row3 col1\" >chrome dino game</td>\n",
              "                        <td id=\"T_4f43e578_555e_11eb_ad9a_0242ac1c0002row3_col2\" class=\"data row3 col2\" >83122</td>\n",
              "                        <td id=\"T_4f43e578_555e_11eb_ad9a_0242ac1c0002row3_col3\" class=\"data row3 col3\" >83121</td>\n",
              "                        <td id=\"T_4f43e578_555e_11eb_ad9a_0242ac1c0002row3_col4\" class=\"data row3 col4\" >681</td>\n",
              "                        <td id=\"T_4f43e578_555e_11eb_ad9a_0242ac1c0002row3_col5\" class=\"data row3 col5\" >681</td>\n",
              "                        <td id=\"T_4f43e578_555e_11eb_ad9a_0242ac1c0002row3_col6\" class=\"data row3 col6\" >0.008193</td>\n",
              "                        <td id=\"T_4f43e578_555e_11eb_ad9a_0242ac1c0002row3_col7\" class=\"data row3 col7\" >0.008193</td>\n",
              "                        <td id=\"T_4f43e578_555e_11eb_ad9a_0242ac1c0002row3_col8\" class=\"data row3 col8\" >Apparel</td>\n",
              "            </tr>\n",
              "            <tr>\n",
              "                        <th id=\"T_4f43e578_555e_11eb_ad9a_0242ac1c0002level0_row4\" class=\"row_heading level0 row4\" >4</th>\n",
              "                        <td id=\"T_4f43e578_555e_11eb_ad9a_0242ac1c0002row4_col0\" class=\"data row4 col0\" >https://shop.googlemerchandisestore.com/Google+Redesign/Apparel/Google+Dino+Game+Tee</td>\n",
              "                        <td id=\"T_4f43e578_555e_11eb_ad9a_0242ac1c0002row4_col1\" class=\"data row4 col1\" >google dinosaur game</td>\n",
              "                        <td id=\"T_4f43e578_555e_11eb_ad9a_0242ac1c0002row4_col2\" class=\"data row4 col2\" >97448</td>\n",
              "                        <td id=\"T_4f43e578_555e_11eb_ad9a_0242ac1c0002row4_col3\" class=\"data row4 col3\" >97405</td>\n",
              "                        <td id=\"T_4f43e578_555e_11eb_ad9a_0242ac1c0002row4_col4\" class=\"data row4 col4\" >676</td>\n",
              "                        <td id=\"T_4f43e578_555e_11eb_ad9a_0242ac1c0002row4_col5\" class=\"data row4 col5\" >676</td>\n",
              "                        <td id=\"T_4f43e578_555e_11eb_ad9a_0242ac1c0002row4_col6\" class=\"data row4 col6\" >0.006937</td>\n",
              "                        <td id=\"T_4f43e578_555e_11eb_ad9a_0242ac1c0002row4_col7\" class=\"data row4 col7\" >0.006937</td>\n",
              "                        <td id=\"T_4f43e578_555e_11eb_ad9a_0242ac1c0002row4_col8\" class=\"data row4 col8\" >Apparel</td>\n",
              "            </tr>\n",
              "    </tbody></table>"
            ],
            "text/plain": [
              "<pandas.io.formats.style.Styler at 0x7ffa20029080>"
            ]
          },
          "metadata": {
            "tags": []
          },
          "execution_count": 107
        }
      ]
    },
    {
      "cell_type": "code",
      "metadata": {
        "id": "LzQ-paYIXd_s"
      },
      "source": [
        "# Creates 2 new dataframes, one for brand queries and one for non-brand queries.\r\n",
        "df_lp_query_brand = df_lp_query[df_lp_query['Query'].str.contains('google')]\r\n",
        "df_lp_query_non_brand = df_lp_query[~df_lp_query['Query'].str.contains('google')]"
      ],
      "execution_count": null,
      "outputs": []
    },
    {
      "cell_type": "markdown",
      "metadata": {
        "id": "bMqptmurVo_0"
      },
      "source": [
        "## 4) Analysis"
      ]
    },
    {
      "cell_type": "markdown",
      "metadata": {
        "id": "xK81OVKjV1Xw"
      },
      "source": [
        "### Top 10 Categories by Clicks"
      ]
    },
    {
      "cell_type": "markdown",
      "metadata": {
        "id": "oK-oQILQO0aR"
      },
      "source": [
        "##### Total Site"
      ]
    },
    {
      "cell_type": "code",
      "metadata": {
        "id": "PIhnmdBrsX2O",
        "colab": {
          "base_uri": "https://localhost:8080/",
          "height": 390
        },
        "outputId": "c1acfe2f-da30-475c-b0ce-f6780f6a9371"
      },
      "source": [
        "category_pivot = df_lp_query.pivot_table(index='Category', values=['URL Clicks'], aggfunc={'URL Clicks': np.sum})\n",
        "category_pivot = category_pivot.sort_values(by='URL Clicks', ascending=False)\n",
        "category_pivot.head(10)"
      ],
      "execution_count": null,
      "outputs": [
        {
          "output_type": "execute_result",
          "data": {
            "text/html": [
              "<div>\n",
              "<style scoped>\n",
              "    .dataframe tbody tr th:only-of-type {\n",
              "        vertical-align: middle;\n",
              "    }\n",
              "\n",
              "    .dataframe tbody tr th {\n",
              "        vertical-align: top;\n",
              "    }\n",
              "\n",
              "    .dataframe thead th {\n",
              "        text-align: right;\n",
              "    }\n",
              "</style>\n",
              "<table border=\"1\" class=\"dataframe\">\n",
              "  <thead>\n",
              "    <tr style=\"text-align: right;\">\n",
              "      <th></th>\n",
              "      <th>URL Clicks</th>\n",
              "    </tr>\n",
              "    <tr>\n",
              "      <th>Category</th>\n",
              "      <th></th>\n",
              "    </tr>\n",
              "  </thead>\n",
              "  <tbody>\n",
              "    <tr>\n",
              "      <th>Apparel</th>\n",
              "      <td>18063</td>\n",
              "    </tr>\n",
              "    <tr>\n",
              "      <th>Shop By Brand</th>\n",
              "      <td>3131</td>\n",
              "    </tr>\n",
              "    <tr>\n",
              "      <th>Accessories</th>\n",
              "      <td>1197</td>\n",
              "    </tr>\n",
              "    <tr>\n",
              "      <th>Stationery</th>\n",
              "      <td>604</td>\n",
              "    </tr>\n",
              "    <tr>\n",
              "      <th>Bags</th>\n",
              "      <td>477</td>\n",
              "    </tr>\n",
              "    <tr>\n",
              "      <th>Drinkware</th>\n",
              "      <td>302</td>\n",
              "    </tr>\n",
              "    <tr>\n",
              "      <th>Frequently Asked Questions</th>\n",
              "      <td>187</td>\n",
              "    </tr>\n",
              "    <tr>\n",
              "      <th>Lifestyle</th>\n",
              "      <td>150</td>\n",
              "    </tr>\n",
              "    <tr>\n",
              "      <th>Clearance</th>\n",
              "      <td>110</td>\n",
              "    </tr>\n",
              "    <tr>\n",
              "      <th>Office</th>\n",
              "      <td>85</td>\n",
              "    </tr>\n",
              "  </tbody>\n",
              "</table>\n",
              "</div>"
            ],
            "text/plain": [
              "                            URL Clicks\n",
              "Category                              \n",
              "Apparel                          18063\n",
              "Shop By Brand                     3131\n",
              "Accessories                       1197\n",
              "Stationery                         604\n",
              "Bags                               477\n",
              "Drinkware                          302\n",
              "Frequently Asked Questions         187\n",
              "Lifestyle                          150\n",
              "Clearance                          110\n",
              "Office                              85"
            ]
          },
          "metadata": {
            "tags": []
          },
          "execution_count": 142
        }
      ]
    },
    {
      "cell_type": "code",
      "metadata": {
        "colab": {
          "base_uri": "https://localhost:8080/",
          "height": 441
        },
        "id": "RcayZnPoV7bF",
        "outputId": "c495e18f-61dd-4c52-c63b-ea164b1a6fbe"
      },
      "source": [
        "ax_category = category_pivot.head(10).plot(kind='bar')\r\n",
        "ax_category.set_ylabel('URL Clicks')\r\n",
        "ax_category.set_title('Top 10 URL Clicks by Category')"
      ],
      "execution_count": null,
      "outputs": [
        {
          "output_type": "execute_result",
          "data": {
            "text/plain": [
              "Text(0.5, 1.0, 'Top 10 URL Clicks by Category')"
            ]
          },
          "metadata": {
            "tags": []
          },
          "execution_count": 143
        },
        {
          "output_type": "display_data",
          "data": {
            "image/png": "[encoded data removed]",
            "text/plain": [
              "<Figure size 432x288 with 1 Axes>"
            ]
          },
          "metadata": {
            "tags": [],
            "needs_background": "light"
          }
        }
      ]
    },
    {
      "cell_type": "markdown",
      "metadata": {
        "id": "_GK6tybfPA_1"
      },
      "source": [
        "##### Brand Queries"
      ]
    },
    {
      "cell_type": "code",
      "metadata": {
        "colab": {
          "base_uri": "https://localhost:8080/",
          "height": 390
        },
        "id": "NZrd1pTQJ-EV",
        "outputId": "6c0376f8-16a9-4027-b4ee-92170b292146"
      },
      "source": [
        "brand_category_pivot = df_lp_query_brand.pivot_table(index='Category', values=['URL Clicks'], aggfunc={'URL Clicks': np.sum})\r\n",
        "brand_category_pivot = brand_category_pivot.sort_values(by='URL Clicks', ascending=False)\r\n",
        "brand_category_pivot.head(10)"
      ],
      "execution_count": null,
      "outputs": [
        {
          "output_type": "execute_result",
          "data": {
            "text/html": [
              "<div>\n",
              "<style scoped>\n",
              "    .dataframe tbody tr th:only-of-type {\n",
              "        vertical-align: middle;\n",
              "    }\n",
              "\n",
              "    .dataframe tbody tr th {\n",
              "        vertical-align: top;\n",
              "    }\n",
              "\n",
              "    .dataframe thead th {\n",
              "        text-align: right;\n",
              "    }\n",
              "</style>\n",
              "<table border=\"1\" class=\"dataframe\">\n",
              "  <thead>\n",
              "    <tr style=\"text-align: right;\">\n",
              "      <th></th>\n",
              "      <th>URL Clicks</th>\n",
              "    </tr>\n",
              "    <tr>\n",
              "      <th>Category</th>\n",
              "      <th></th>\n",
              "    </tr>\n",
              "  </thead>\n",
              "  <tbody>\n",
              "    <tr>\n",
              "      <th>Apparel</th>\n",
              "      <td>5312</td>\n",
              "    </tr>\n",
              "    <tr>\n",
              "      <th>Accessories</th>\n",
              "      <td>847</td>\n",
              "    </tr>\n",
              "    <tr>\n",
              "      <th>Stationery</th>\n",
              "      <td>537</td>\n",
              "    </tr>\n",
              "    <tr>\n",
              "      <th>Bags</th>\n",
              "      <td>449</td>\n",
              "    </tr>\n",
              "    <tr>\n",
              "      <th>Drinkware</th>\n",
              "      <td>269</td>\n",
              "    </tr>\n",
              "    <tr>\n",
              "      <th>Frequently Asked Questions</th>\n",
              "      <td>183</td>\n",
              "    </tr>\n",
              "    <tr>\n",
              "      <th>Lifestyle</th>\n",
              "      <td>143</td>\n",
              "    </tr>\n",
              "    <tr>\n",
              "      <th>Shop By Brand</th>\n",
              "      <td>119</td>\n",
              "    </tr>\n",
              "    <tr>\n",
              "      <th>Clearance</th>\n",
              "      <td>109</td>\n",
              "    </tr>\n",
              "    <tr>\n",
              "      <th>Google Crew Sweater Navy</th>\n",
              "      <td>70</td>\n",
              "    </tr>\n",
              "  </tbody>\n",
              "</table>\n",
              "</div>"
            ],
            "text/plain": [
              "                            URL Clicks\n",
              "Category                              \n",
              "Apparel                           5312\n",
              "Accessories                        847\n",
              "Stationery                         537\n",
              "Bags                               449\n",
              "Drinkware                          269\n",
              "Frequently Asked Questions         183\n",
              "Lifestyle                          143\n",
              "Shop By Brand                      119\n",
              "Clearance                          109\n",
              "Google Crew Sweater Navy            70"
            ]
          },
          "metadata": {
            "tags": []
          },
          "execution_count": 144
        }
      ]
    },
    {
      "cell_type": "code",
      "metadata": {
        "colab": {
          "base_uri": "https://localhost:8080/",
          "height": 441
        },
        "id": "pjlcArzIK5Vw",
        "outputId": "1b79a4d3-00b3-486a-d178-1ccca3010a3d"
      },
      "source": [
        "ax_category = brand_category_pivot.head(10).plot(kind='bar')\r\n",
        "ax_category.set_ylabel('URL Clicks')\r\n",
        "ax_category.set_title('Top 10 Brand URL Clicks by Category')"
      ],
      "execution_count": null,
      "outputs": [
        {
          "output_type": "execute_result",
          "data": {
            "text/plain": [
              "Text(0.5, 1.0, 'Top 10 Brand URL Clicks by Category')"
            ]
          },
          "metadata": {
            "tags": []
          },
          "execution_count": 145
        },
        {
          "output_type": "display_data",
          "data": {
            "image/png": "[encoded data removed]",
            "text/plain": [
              "<Figure size 432x288 with 1 Axes>"
            ]
          },
          "metadata": {
            "tags": [],
            "needs_background": "light"
          }
        }
      ]
    },
    {
      "cell_type": "markdown",
      "metadata": {
        "id": "0SMZ73vQPMyb"
      },
      "source": [
        "##### Non-Brand Queries"
      ]
    },
    {
      "cell_type": "code",
      "metadata": {
        "colab": {
          "base_uri": "https://localhost:8080/",
          "height": 390
        },
        "id": "CvfK2WUOLBFG",
        "outputId": "e8fb2870-07f3-403b-95fa-7f7cd77a7126"
      },
      "source": [
        "non_brand_category_pivot = df_lp_query_non_brand.pivot_table(index='Category', values=['URL Clicks'], aggfunc={'URL Clicks': np.sum})\r\n",
        "non_brand_category_pivot = non_brand_category_pivot.sort_values(by='URL Clicks', ascending=False)\r\n",
        "non_brand_category_pivot.head(10)"
      ],
      "execution_count": null,
      "outputs": [
        {
          "output_type": "execute_result",
          "data": {
            "text/html": [
              "<div>\n",
              "<style scoped>\n",
              "    .dataframe tbody tr th:only-of-type {\n",
              "        vertical-align: middle;\n",
              "    }\n",
              "\n",
              "    .dataframe tbody tr th {\n",
              "        vertical-align: top;\n",
              "    }\n",
              "\n",
              "    .dataframe thead th {\n",
              "        text-align: right;\n",
              "    }\n",
              "</style>\n",
              "<table border=\"1\" class=\"dataframe\">\n",
              "  <thead>\n",
              "    <tr style=\"text-align: right;\">\n",
              "      <th></th>\n",
              "      <th>URL Clicks</th>\n",
              "    </tr>\n",
              "    <tr>\n",
              "      <th>Category</th>\n",
              "      <th></th>\n",
              "    </tr>\n",
              "  </thead>\n",
              "  <tbody>\n",
              "    <tr>\n",
              "      <th>Apparel</th>\n",
              "      <td>12751</td>\n",
              "    </tr>\n",
              "    <tr>\n",
              "      <th>Shop By Brand</th>\n",
              "      <td>3012</td>\n",
              "    </tr>\n",
              "    <tr>\n",
              "      <th>Accessories</th>\n",
              "      <td>350</td>\n",
              "    </tr>\n",
              "    <tr>\n",
              "      <th>Stationery</th>\n",
              "      <td>67</td>\n",
              "    </tr>\n",
              "    <tr>\n",
              "      <th>Store Policies</th>\n",
              "      <td>49</td>\n",
              "    </tr>\n",
              "    <tr>\n",
              "      <th>Office</th>\n",
              "      <td>35</td>\n",
              "    </tr>\n",
              "    <tr>\n",
              "      <th>Drinkware</th>\n",
              "      <td>33</td>\n",
              "    </tr>\n",
              "    <tr>\n",
              "      <th>Bags</th>\n",
              "      <td>28</td>\n",
              "    </tr>\n",
              "    <tr>\n",
              "      <th>Campus Collection</th>\n",
              "      <td>9</td>\n",
              "    </tr>\n",
              "    <tr>\n",
              "      <th>Return Policy</th>\n",
              "      <td>8</td>\n",
              "    </tr>\n",
              "  </tbody>\n",
              "</table>\n",
              "</div>"
            ],
            "text/plain": [
              "                   URL Clicks\n",
              "Category                     \n",
              "Apparel                 12751\n",
              "Shop By Brand            3012\n",
              "Accessories               350\n",
              "Stationery                 67\n",
              "Store Policies             49\n",
              "Office                     35\n",
              "Drinkware                  33\n",
              "Bags                       28\n",
              "Campus Collection           9\n",
              "Return Policy               8"
            ]
          },
          "metadata": {
            "tags": []
          },
          "execution_count": 146
        }
      ]
    },
    {
      "cell_type": "code",
      "metadata": {
        "colab": {
          "base_uri": "https://localhost:8080/",
          "height": 395
        },
        "id": "zGZmUEveLIY0",
        "outputId": "086faef2-1bd1-444b-f41b-6bc719d44bd3"
      },
      "source": [
        "ax_category = non_brand_category_pivot.head(10).plot(kind='bar')\r\n",
        "ax_category.set_ylabel('URL Clicks')\r\n",
        "ax_category.set_title('Top 10 Non-Brand URL Clicks by Category')"
      ],
      "execution_count": null,
      "outputs": [
        {
          "output_type": "execute_result",
          "data": {
            "text/plain": [
              "Text(0.5, 1.0, 'Top 10 Non-Brand URL Clicks by Category')"
            ]
          },
          "metadata": {
            "tags": []
          },
          "execution_count": 147
        },
        {
          "output_type": "display_data",
          "data": {
            "image/png": "[encoded data removed]",
            "text/plain": [
              "<Figure size 432x288 with 1 Axes>"
            ]
          },
          "metadata": {
            "tags": [],
            "needs_background": "light"
          }
        }
      ]
    },
    {
      "cell_type": "markdown",
      "metadata": {
        "id": "fxGVedYcWbba"
      },
      "source": [
        "### Keyword Cannibalization"
      ]
    },
    {
      "cell_type": "code",
      "metadata": {
        "colab": {
          "base_uri": "https://localhost:8080/",
          "height": 390
        },
        "id": "QzhVd7GjW2X6",
        "outputId": "255d0ae5-01f4-4416-e32f-6d0466a74e09"
      },
      "source": [
        "pivot_brand_keyword_cannibalization = df_lp_query_brand.pivot_table(index='Query', values=['Landing Page'], aggfunc={'Landing Page': 'count'})\r\n",
        "pivot_brand_keyword_cannibalization = pivot_brand_keyword_cannibalization.sort_values(by='Landing Page', ascending=False)\r\n",
        "pivot_brand_keyword_cannibalization.head(10)"
      ],
      "execution_count": null,
      "outputs": [
        {
          "output_type": "execute_result",
          "data": {
            "text/html": [
              "<div>\n",
              "<style scoped>\n",
              "    .dataframe tbody tr th:only-of-type {\n",
              "        vertical-align: middle;\n",
              "    }\n",
              "\n",
              "    .dataframe tbody tr th {\n",
              "        vertical-align: top;\n",
              "    }\n",
              "\n",
              "    .dataframe thead th {\n",
              "        text-align: right;\n",
              "    }\n",
              "</style>\n",
              "<table border=\"1\" class=\"dataframe\">\n",
              "  <thead>\n",
              "    <tr style=\"text-align: right;\">\n",
              "      <th></th>\n",
              "      <th>Landing Page</th>\n",
              "    </tr>\n",
              "    <tr>\n",
              "      <th>Query</th>\n",
              "      <th></th>\n",
              "    </tr>\n",
              "  </thead>\n",
              "  <tbody>\n",
              "    <tr>\n",
              "      <th>site:shop.googlemerchandisestore.com</th>\n",
              "      <td>105</td>\n",
              "    </tr>\n",
              "    <tr>\n",
              "      <th>site:googlemerchandisestore.com</th>\n",
              "      <td>104</td>\n",
              "    </tr>\n",
              "    <tr>\n",
              "      <th>google merchandise store</th>\n",
              "      <td>50</td>\n",
              "    </tr>\n",
              "    <tr>\n",
              "      <th>shop.googlemerchandisestore</th>\n",
              "      <td>45</td>\n",
              "    </tr>\n",
              "    <tr>\n",
              "      <th>google merch</th>\n",
              "      <td>36</td>\n",
              "    </tr>\n",
              "    <tr>\n",
              "      <th>google shirt</th>\n",
              "      <td>34</td>\n",
              "    </tr>\n",
              "    <tr>\n",
              "      <th>googlemerchandisestore.com</th>\n",
              "      <td>33</td>\n",
              "    </tr>\n",
              "    <tr>\n",
              "      <th>shop.googlemerchandisestore.com</th>\n",
              "      <td>33</td>\n",
              "    </tr>\n",
              "    <tr>\n",
              "      <th>google merchandise</th>\n",
              "      <td>33</td>\n",
              "    </tr>\n",
              "    <tr>\n",
              "      <th>https://shop.googlemerchandisestore.com/</th>\n",
              "      <td>32</td>\n",
              "    </tr>\n",
              "  </tbody>\n",
              "</table>\n",
              "</div>"
            ],
            "text/plain": [
              "                                          Landing Page\n",
              "Query                                                 \n",
              "site:shop.googlemerchandisestore.com               105\n",
              "site:googlemerchandisestore.com                    104\n",
              "google merchandise store                            50\n",
              "shop.googlemerchandisestore                         45\n",
              "google merch                                        36\n",
              "google shirt                                        34\n",
              "googlemerchandisestore.com                          33\n",
              "shop.googlemerchandisestore.com                     33\n",
              "google merchandise                                  33\n",
              "https://shop.googlemerchandisestore.com/            32"
            ]
          },
          "metadata": {
            "tags": []
          },
          "execution_count": 31
        }
      ]
    },
    {
      "cell_type": "code",
      "metadata": {
        "colab": {
          "base_uri": "https://localhost:8080/",
          "height": 390
        },
        "id": "EU4l5s2zX7yF",
        "outputId": "9fd6afb3-97e0-4044-e711-3244f38ee1a5"
      },
      "source": [
        "# pivot_non_brand_keyword_cannibalization = df_lp_query_non_brand.pivot_table(index={'Query', 'Landing Page'}, values=['URL Clicks'], aggfunc={'URL Clicks': np.sum})\r\n",
        "pivot_non_brand_keyword_cannibalization = df_lp_query_non_brand.pivot_table(index={'Query'}, values=['Landing Page','URL Clicks'], aggfunc={'Landing Page':'count', 'URL Clicks': np.sum})\r\n",
        "pivot_non_brand_keyword_cannibalization = pivot_non_brand_keyword_cannibalization.sort_values(by='Landing Page', ascending=False)\r\n",
        "pivot_non_brand_keyword_cannibalization.head(10)"
      ],
      "execution_count": null,
      "outputs": [
        {
          "output_type": "execute_result",
          "data": {
            "text/html": [
              "<div>\n",
              "<style scoped>\n",
              "    .dataframe tbody tr th:only-of-type {\n",
              "        vertical-align: middle;\n",
              "    }\n",
              "\n",
              "    .dataframe tbody tr th {\n",
              "        vertical-align: top;\n",
              "    }\n",
              "\n",
              "    .dataframe thead th {\n",
              "        text-align: right;\n",
              "    }\n",
              "</style>\n",
              "<table border=\"1\" class=\"dataframe\">\n",
              "  <thead>\n",
              "    <tr style=\"text-align: right;\">\n",
              "      <th></th>\n",
              "      <th>Landing Page</th>\n",
              "      <th>URL Clicks</th>\n",
              "    </tr>\n",
              "    <tr>\n",
              "      <th>Query</th>\n",
              "      <th></th>\n",
              "      <th></th>\n",
              "    </tr>\n",
              "  </thead>\n",
              "  <tbody>\n",
              "    <tr>\n",
              "      <th>merchandise store</th>\n",
              "      <td>31</td>\n",
              "      <td>27</td>\n",
              "    </tr>\n",
              "    <tr>\n",
              "      <th>merchandise.com</th>\n",
              "      <td>25</td>\n",
              "      <td>2</td>\n",
              "    </tr>\n",
              "    <tr>\n",
              "      <th>merchandise</th>\n",
              "      <td>24</td>\n",
              "      <td>2</td>\n",
              "    </tr>\n",
              "    <tr>\n",
              "      <th>the merchandise store</th>\n",
              "      <td>21</td>\n",
              "      <td>0</td>\n",
              "    </tr>\n",
              "    <tr>\n",
              "      <th>shop merchandise</th>\n",
              "      <td>19</td>\n",
              "      <td>1</td>\n",
              "    </tr>\n",
              "    <tr>\n",
              "      <th>merchandise shop</th>\n",
              "      <td>19</td>\n",
              "      <td>4</td>\n",
              "    </tr>\n",
              "    <tr>\n",
              "      <th>store merchandise</th>\n",
              "      <td>18</td>\n",
              "      <td>0</td>\n",
              "    </tr>\n",
              "    <tr>\n",
              "      <th>merchandise website</th>\n",
              "      <td>18</td>\n",
              "      <td>1</td>\n",
              "    </tr>\n",
              "    <tr>\n",
              "      <th>home merchandise</th>\n",
              "      <td>18</td>\n",
              "      <td>0</td>\n",
              "    </tr>\n",
              "    <tr>\n",
              "      <th>merch store near me</th>\n",
              "      <td>18</td>\n",
              "      <td>0</td>\n",
              "    </tr>\n",
              "  </tbody>\n",
              "</table>\n",
              "</div>"
            ],
            "text/plain": [
              "                       Landing Page  URL Clicks\n",
              "Query                                          \n",
              "merchandise store                31          27\n",
              "merchandise.com                  25           2\n",
              "merchandise                      24           2\n",
              "the merchandise store            21           0\n",
              "shop merchandise                 19           1\n",
              "merchandise shop                 19           4\n",
              "store merchandise                18           0\n",
              "merchandise website              18           1\n",
              "home merchandise                 18           0\n",
              "merch store near me              18           0"
            ]
          },
          "metadata": {
            "tags": []
          },
          "execution_count": 39
        }
      ]
    },
    {
      "cell_type": "code",
      "metadata": {
        "id": "6hl53EqGZos3"
      },
      "source": [
        ""
      ],
      "execution_count": null,
      "outputs": []
    }
  ]
}